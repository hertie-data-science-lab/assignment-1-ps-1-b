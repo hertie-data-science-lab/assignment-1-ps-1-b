{
 "cells": [
  {
   "cell_type": "code",
   "execution_count": null,
   "metadata": {
    "collapsed": false,
    "jupyter": {
     "outputs_hidden": false
    }
   },
   "outputs": [],
   "source": [
    "# Problem Set 1 - Neural network implementation"
   ]
  },
  {
   "cell_type": "markdown",
   "metadata": {},
   "source": [
    "Team number: PS 1 B\n",
    "\n",
    "Team members: \n",
    "- Giorgio Coppola (224545)\n",
    "- Minho Kang (239742)\n",
    "- Sofiya Berdiyeva (246934)"
   ]
  },
  {
   "cell_type": "markdown",
   "metadata": {},
   "source": [
    "As described in section \"2 Neural network implementation\" of assignment 1, the goal is to build a shallow neural network from scratch using different approaches. To validate that your code is working and that the network is actually learning something, please use the following MNIST classification task. Finally, please submit proof of the learning progress as described in the assignment."
   ]
  },
  {
   "cell_type": "markdown",
   "metadata": {},
   "source": [
    "## Imports"
   ]
  },
  {
   "cell_type": "code",
   "execution_count": 2,
   "metadata": {
    "ExecuteTime": {
     "end_time": "2025-10-01T08:35:42.968452Z",
     "start_time": "2025-10-01T08:35:38.051447Z"
    }
   },
   "outputs": [],
   "source": [
    "import random\n",
    "import pandas as pd\n",
    "import numpy as np\n",
    "from sklearn import model_selection\n",
    "import sklearn.datasets as sk_datasets\n",
    "import torchvision.datasets as torch_datasets\n",
    "from torchvision import transforms\n",
    "import torch\n",
    "import matplotlib.pyplot as plt\n",
    "\n",
    "from scratch.network import Network\n",
    "from scratch.res_network import ResNetwork\n",
    "from pytorch.network import TorchNetwork\n",
    "from scratch.utils import *\n"
   ]
  },
  {
   "cell_type": "code",
   "execution_count": 4,
   "metadata": {
    "ExecuteTime": {
     "end_time": "2025-10-01T08:35:43.973718Z",
     "start_time": "2025-10-01T08:35:43.920008Z"
    }
   },
   "outputs": [
    {
     "name": "stdout",
     "output_type": "stream",
     "text": [
      "The autoreload extension is already loaded. To reload it, use:\n",
      "  %reload_ext autoreload\n"
     ]
    }
   ],
   "source": [
    "# Automatically load changes in imported modules\n",
    "%load_ext autoreload\n",
    "%autoreload 2\n",
    "\n",
    "# Explicitly set seed for reproducibility\n",
    "GLOBAL_RANDOM_STATE = 42\n",
    "\n",
    "random.seed(GLOBAL_RANDOM_STATE)\n",
    "np.random.seed(GLOBAL_RANDOM_STATE)"
   ]
  },
  {
   "cell_type": "markdown",
   "metadata": {},
   "source": [
    "## A) Neural Network Classifier from Scratch"
   ]
  },
  {
   "cell_type": "markdown",
   "metadata": {},
   "source": [
    "### Data"
   ]
  },
  {
   "cell_type": "code",
   "execution_count": 7,
   "metadata": {
    "ExecuteTime": {
     "end_time": "2025-10-01T07:49:14.522968Z",
     "start_time": "2025-10-01T07:49:11.525294Z"
    }
   },
   "outputs": [],
   "source": [
    "# Download MNIST dataset\n",
    "x, y_cat = sk_datasets.fetch_openml('mnist_784', version=1, return_X_y=True, cache=True, as_frame=False)\n",
    "\n",
    "# Preprocess dataset\n",
    "x = (x / 255).astype('float32')\n",
    "y_cat = y_cat.astype(int)\n",
    "# One-hot encode y\n",
    "y = np.zeros((len(y_cat), 10))\n",
    "for i, val in enumerate(y_cat):\n",
    "    y[i, val] = 1\n",
    "\n",
    "# Use only small subset of data for faster training\n",
    "x = x[:1000]\n",
    "y = y[:1000]\n",
    "\n",
    "# Split data into train and validation set\n",
    "x_train, x_val, y_train, y_val = model_selection.train_test_split(x, y, test_size=0.2, random_state=GLOBAL_RANDOM_STATE)\n"
   ]
  },
  {
   "cell_type": "markdown",
   "metadata": {},
   "source": [
    "### ML Model & Training"
   ]
  },
  {
   "cell_type": "code",
   "execution_count": 11,
   "metadata": {
    "ExecuteTime": {
     "end_time": "2025-10-01T07:49:32.565177Z",
     "start_time": "2025-10-01T07:49:16.501560Z"
    }
   },
   "outputs": [
    {
     "name": "stdout",
     "output_type": "stream",
     "text": [
      "Epoch: 1, Training Time: 0.26s, Training Accuracy: 44.38%, Validation Accuracy: 41.00%\n",
      "Epoch: 2, Training Time: 0.51s, Training Accuracy: 74.00%, Validation Accuracy: 70.00%\n",
      "Epoch: 3, Training Time: 0.77s, Training Accuracy: 82.50%, Validation Accuracy: 80.00%\n",
      "Epoch: 4, Training Time: 1.03s, Training Accuracy: 88.62%, Validation Accuracy: 82.00%\n",
      "Epoch: 5, Training Time: 1.29s, Training Accuracy: 92.00%, Validation Accuracy: 83.50%\n",
      "Epoch: 6, Training Time: 1.54s, Training Accuracy: 93.88%, Validation Accuracy: 84.50%\n",
      "Epoch: 7, Training Time: 1.80s, Training Accuracy: 95.12%, Validation Accuracy: 83.00%\n",
      "Epoch: 8, Training Time: 2.07s, Training Accuracy: 95.62%, Validation Accuracy: 83.00%\n",
      "Epoch: 9, Training Time: 2.33s, Training Accuracy: 96.75%, Validation Accuracy: 84.50%\n",
      "Epoch: 10, Training Time: 2.59s, Training Accuracy: 97.25%, Validation Accuracy: 85.00%\n",
      "Epoch: 11, Training Time: 2.86s, Training Accuracy: 97.88%, Validation Accuracy: 84.50%\n",
      "Epoch: 12, Training Time: 3.12s, Training Accuracy: 98.12%, Validation Accuracy: 85.50%\n",
      "Epoch: 13, Training Time: 3.38s, Training Accuracy: 98.25%, Validation Accuracy: 85.50%\n",
      "Epoch: 14, Training Time: 3.64s, Training Accuracy: 98.75%, Validation Accuracy: 86.50%\n",
      "Epoch: 15, Training Time: 3.90s, Training Accuracy: 98.88%, Validation Accuracy: 87.00%\n",
      "Epoch: 16, Training Time: 4.17s, Training Accuracy: 98.88%, Validation Accuracy: 87.00%\n",
      "Epoch: 17, Training Time: 4.43s, Training Accuracy: 98.88%, Validation Accuracy: 87.50%\n",
      "Epoch: 18, Training Time: 4.69s, Training Accuracy: 99.00%, Validation Accuracy: 88.00%\n",
      "Epoch: 19, Training Time: 4.95s, Training Accuracy: 99.00%, Validation Accuracy: 88.00%\n",
      "Epoch: 20, Training Time: 5.22s, Training Accuracy: 99.12%, Validation Accuracy: 88.00%\n",
      "Epoch: 21, Training Time: 5.48s, Training Accuracy: 99.12%, Validation Accuracy: 88.00%\n",
      "Epoch: 22, Training Time: 5.74s, Training Accuracy: 99.12%, Validation Accuracy: 88.50%\n",
      "Epoch: 23, Training Time: 6.00s, Training Accuracy: 99.12%, Validation Accuracy: 88.50%\n",
      "Epoch: 24, Training Time: 6.26s, Training Accuracy: 99.12%, Validation Accuracy: 88.50%\n",
      "Epoch: 25, Training Time: 6.53s, Training Accuracy: 99.12%, Validation Accuracy: 88.50%\n",
      "Epoch: 26, Training Time: 6.79s, Training Accuracy: 99.12%, Validation Accuracy: 88.50%\n",
      "Epoch: 27, Training Time: 7.06s, Training Accuracy: 99.12%, Validation Accuracy: 88.50%\n",
      "Epoch: 28, Training Time: 7.31s, Training Accuracy: 99.12%, Validation Accuracy: 88.50%\n",
      "Epoch: 29, Training Time: 7.58s, Training Accuracy: 99.12%, Validation Accuracy: 88.50%\n",
      "Epoch: 30, Training Time: 7.84s, Training Accuracy: 99.12%, Validation Accuracy: 88.50%\n",
      "Epoch: 31, Training Time: 8.10s, Training Accuracy: 99.12%, Validation Accuracy: 88.50%\n",
      "Epoch: 32, Training Time: 8.37s, Training Accuracy: 99.12%, Validation Accuracy: 88.50%\n",
      "Epoch: 33, Training Time: 8.62s, Training Accuracy: 99.12%, Validation Accuracy: 88.50%\n",
      "Epoch: 34, Training Time: 8.87s, Training Accuracy: 99.25%, Validation Accuracy: 88.50%\n",
      "Epoch: 35, Training Time: 9.14s, Training Accuracy: 99.25%, Validation Accuracy: 89.50%\n",
      "Epoch: 36, Training Time: 9.40s, Training Accuracy: 99.25%, Validation Accuracy: 89.50%\n",
      "Epoch: 37, Training Time: 9.67s, Training Accuracy: 99.25%, Validation Accuracy: 89.50%\n",
      "Epoch: 38, Training Time: 9.93s, Training Accuracy: 99.38%, Validation Accuracy: 89.50%\n",
      "Epoch: 39, Training Time: 10.19s, Training Accuracy: 99.38%, Validation Accuracy: 88.50%\n",
      "Epoch: 40, Training Time: 10.45s, Training Accuracy: 99.38%, Validation Accuracy: 88.50%\n",
      "Epoch: 41, Training Time: 10.72s, Training Accuracy: 99.38%, Validation Accuracy: 88.50%\n",
      "Epoch: 42, Training Time: 10.98s, Training Accuracy: 99.50%, Validation Accuracy: 89.00%\n",
      "Epoch: 43, Training Time: 11.24s, Training Accuracy: 99.50%, Validation Accuracy: 90.00%\n",
      "Epoch: 44, Training Time: 11.51s, Training Accuracy: 99.50%, Validation Accuracy: 90.00%\n",
      "Epoch: 45, Training Time: 11.77s, Training Accuracy: 99.50%, Validation Accuracy: 90.00%\n",
      "Epoch: 46, Training Time: 12.03s, Training Accuracy: 99.50%, Validation Accuracy: 90.00%\n",
      "Epoch: 47, Training Time: 12.29s, Training Accuracy: 99.50%, Validation Accuracy: 90.00%\n",
      "Epoch: 48, Training Time: 12.56s, Training Accuracy: 99.50%, Validation Accuracy: 90.00%\n",
      "Epoch: 49, Training Time: 12.82s, Training Accuracy: 99.50%, Validation Accuracy: 90.00%\n",
      "Epoch: 50, Training Time: 13.07s, Training Accuracy: 99.50%, Validation Accuracy: 90.00%\n"
     ]
    }
   ],
   "source": [
    "fnn = Network(sizes=[784, 128, 64, 10], learning_rate=0.1, epochs=50)\n",
    "fnn.fit(x_train, y_train, x_val, y_val, cosine_annealing_lr=False)"
   ]
  },
  {
   "cell_type": "markdown",
   "metadata": {},
   "source": [
    "### Test cosine annealing scheduler"
   ]
  },
  {
   "cell_type": "code",
   "execution_count": 9,
   "metadata": {},
   "outputs": [
    {
     "name": "stdout",
     "output_type": "stream",
     "text": [
      "Epoch: 1, Training Time: 0.01s, Training Accuracy: 0.00%, Validation Accuracy: 0.00%\n",
      "Epoch: 2, Training Time: 0.01s, Training Accuracy: 0.00%, Validation Accuracy: 0.00%\n",
      "Epoch: 3, Training Time: 0.02s, Training Accuracy: 0.00%, Validation Accuracy: 0.00%\n",
      "Epoch: 4, Training Time: 0.02s, Training Accuracy: 0.00%, Validation Accuracy: 0.00%\n",
      "Epoch: 5, Training Time: 0.03s, Training Accuracy: 0.00%, Validation Accuracy: 0.00%\n",
      "Epoch: 6, Training Time: 0.03s, Training Accuracy: 0.00%, Validation Accuracy: 0.00%\n",
      "Epoch: 7, Training Time: 0.04s, Training Accuracy: 0.00%, Validation Accuracy: 0.00%\n",
      "Epoch: 8, Training Time: 0.04s, Training Accuracy: 0.00%, Validation Accuracy: 0.00%\n",
      "Epoch: 9, Training Time: 0.05s, Training Accuracy: 0.00%, Validation Accuracy: 0.00%\n",
      "Epoch: 10, Training Time: 0.05s, Training Accuracy: 0.00%, Validation Accuracy: 0.00%\n",
      "Epoch: 11, Training Time: 0.05s, Training Accuracy: 0.00%, Validation Accuracy: 0.00%\n",
      "Epoch: 12, Training Time: 0.06s, Training Accuracy: 0.00%, Validation Accuracy: 0.00%\n",
      "Epoch: 13, Training Time: 0.06s, Training Accuracy: 0.00%, Validation Accuracy: 0.00%\n",
      "Epoch: 14, Training Time: 0.07s, Training Accuracy: 0.00%, Validation Accuracy: 0.00%\n",
      "Epoch: 15, Training Time: 0.07s, Training Accuracy: 0.00%, Validation Accuracy: 0.00%\n",
      "Epoch: 16, Training Time: 0.07s, Training Accuracy: 0.00%, Validation Accuracy: 0.00%\n",
      "Epoch: 17, Training Time: 0.08s, Training Accuracy: 0.00%, Validation Accuracy: 0.00%\n",
      "Epoch: 18, Training Time: 0.08s, Training Accuracy: 0.00%, Validation Accuracy: 0.00%\n",
      "Epoch: 19, Training Time: 0.09s, Training Accuracy: 0.00%, Validation Accuracy: 0.00%\n",
      "Epoch: 20, Training Time: 0.09s, Training Accuracy: 0.00%, Validation Accuracy: 0.00%\n",
      "Epoch: 21, Training Time: 0.09s, Training Accuracy: 0.00%, Validation Accuracy: 0.00%\n",
      "Epoch: 22, Training Time: 0.10s, Training Accuracy: 0.00%, Validation Accuracy: 0.00%\n",
      "Epoch: 23, Training Time: 0.10s, Training Accuracy: 0.00%, Validation Accuracy: 0.00%\n",
      "Epoch: 24, Training Time: 0.11s, Training Accuracy: 0.00%, Validation Accuracy: 0.00%\n",
      "Epoch: 25, Training Time: 0.11s, Training Accuracy: 0.00%, Validation Accuracy: 0.00%\n",
      "Epoch: 26, Training Time: 0.12s, Training Accuracy: 0.00%, Validation Accuracy: 0.00%\n",
      "Epoch: 27, Training Time: 0.12s, Training Accuracy: 0.00%, Validation Accuracy: 0.00%\n",
      "Epoch: 28, Training Time: 0.12s, Training Accuracy: 0.00%, Validation Accuracy: 0.00%\n",
      "Epoch: 29, Training Time: 0.13s, Training Accuracy: 0.00%, Validation Accuracy: 0.00%\n",
      "Epoch: 30, Training Time: 0.14s, Training Accuracy: 0.00%, Validation Accuracy: 0.00%\n",
      "Epoch: 31, Training Time: 0.14s, Training Accuracy: 0.00%, Validation Accuracy: 0.00%\n",
      "Epoch: 32, Training Time: 0.15s, Training Accuracy: 0.00%, Validation Accuracy: 0.00%\n",
      "Epoch: 33, Training Time: 0.15s, Training Accuracy: 0.00%, Validation Accuracy: 0.00%\n",
      "Epoch: 34, Training Time: 0.16s, Training Accuracy: 0.00%, Validation Accuracy: 0.00%\n",
      "Epoch: 35, Training Time: 0.16s, Training Accuracy: 0.00%, Validation Accuracy: 0.00%\n",
      "Epoch: 36, Training Time: 0.16s, Training Accuracy: 0.00%, Validation Accuracy: 0.00%\n",
      "Epoch: 37, Training Time: 0.17s, Training Accuracy: 0.00%, Validation Accuracy: 0.00%\n",
      "Epoch: 38, Training Time: 0.18s, Training Accuracy: 0.00%, Validation Accuracy: 0.00%\n",
      "Epoch: 39, Training Time: 0.18s, Training Accuracy: 0.00%, Validation Accuracy: 0.00%\n",
      "Epoch: 40, Training Time: 0.19s, Training Accuracy: 0.00%, Validation Accuracy: 0.00%\n",
      "Epoch: 41, Training Time: 0.19s, Training Accuracy: 0.00%, Validation Accuracy: 0.00%\n",
      "Epoch: 42, Training Time: 0.20s, Training Accuracy: 0.00%, Validation Accuracy: 0.00%\n",
      "Epoch: 43, Training Time: 0.20s, Training Accuracy: 0.00%, Validation Accuracy: 0.00%\n",
      "Epoch: 44, Training Time: 0.21s, Training Accuracy: 0.00%, Validation Accuracy: 0.00%\n",
      "Epoch: 45, Training Time: 0.21s, Training Accuracy: 0.00%, Validation Accuracy: 0.00%\n",
      "Epoch: 46, Training Time: 0.22s, Training Accuracy: 0.00%, Validation Accuracy: 0.00%\n",
      "Epoch: 47, Training Time: 0.22s, Training Accuracy: 0.00%, Validation Accuracy: 0.00%\n",
      "Epoch: 48, Training Time: 0.23s, Training Accuracy: 0.00%, Validation Accuracy: 0.00%\n",
      "Epoch: 49, Training Time: 0.23s, Training Accuracy: 0.00%, Validation Accuracy: 0.00%\n",
      "Epoch: 50, Training Time: 0.23s, Training Accuracy: 0.00%, Validation Accuracy: 0.00%\n"
     ]
    }
   ],
   "source": [
    "fnn.fit(x_train, y_train, x_val, y_val, cosine_annealing_lr=True)"
   ]
  },
  {
   "cell_type": "markdown",
   "metadata": {},
   "source": [
    "### Test residual neural network"
   ]
  },
  {
   "cell_type": "code",
   "execution_count": 1,
   "metadata": {
    "ExecuteTime": {
     "end_time": "2025-10-01T08:35:19.662363Z",
     "start_time": "2025-10-01T08:35:19.530660Z"
    }
   },
   "outputs": [
    {
     "ename": "NameError",
     "evalue": "name 'ResNetwork' is not defined",
     "output_type": "error",
     "traceback": [
      "\u001b[31m---------------------------------------------------------------------------\u001b[39m",
      "\u001b[31mNameError\u001b[39m                                 Traceback (most recent call last)",
      "\u001b[36mCell\u001b[39m\u001b[36m \u001b[39m\u001b[32mIn[1]\u001b[39m\u001b[32m, line 1\u001b[39m\n\u001b[32m----> \u001b[39m\u001b[32m1\u001b[39m res_nn = \u001b[43mResNetwork\u001b[49m(sizes=[\u001b[32m784\u001b[39m, \u001b[32m128\u001b[39m, \u001b[32m128\u001b[39m, \u001b[32m10\u001b[39m], learning_rate=\u001b[32m1\u001b[39m, epochs=\u001b[32m50\u001b[39m)\n\u001b[32m      2\u001b[39m res_nn.fit(x_train, y_train, x_val, y_val)\n",
      "\u001b[31mNameError\u001b[39m: name 'ResNetwork' is not defined"
     ]
    }
   ],
   "source": [
    "res_nn = ResNetwork(sizes=[784, 128, 128, 10], learning_rate=1, epochs=50)\n",
    "res_nn.fit(x_train, y_train, x_val, y_val)"
   ]
  },
  {
   "cell_type": "markdown",
   "metadata": {},
   "source": [
    "## B) Neural Network Classifier using Torch"
   ]
  },
  {
   "cell_type": "markdown",
   "metadata": {},
   "source": [
    "### Data"
   ]
  },
  {
   "cell_type": "code",
   "execution_count": 5,
   "metadata": {
    "ExecuteTime": {
     "end_time": "2025-10-01T08:35:57.104081Z",
     "start_time": "2025-10-01T08:35:56.586449Z"
    }
   },
   "outputs": [
    {
     "name": "stderr",
     "output_type": "stream",
     "text": [
      "100.0%\n",
      "100.0%\n",
      "100.0%\n",
      "100.0%\n"
     ]
    }
   ],
   "source": [
    "# Define data preprocessing steps\n",
    "transform = transforms.Compose([\n",
    "                transforms.ToTensor(),\n",
    "                transforms.Normalize((0.5,), (0.5,))\n",
    "            ])\n",
    "\n",
    "# Download MNIST dataset\n",
    "train_set = torch_datasets.MNIST('data', train=True, download=True, transform=transform)\n",
    "val_set = torch_datasets.MNIST('data', train=False, download=True, transform=transform)\n",
    "\n",
    "# Use only small subset of data for faster training\n",
    "train_set = torch.utils.data.Subset(train_set, range(1000))\n",
    "val_set = torch.utils.data.Subset(val_set, range(1000))\n",
    "\n",
    "# Utilize PyTorch DataLoader from simplified & harmonized loading of data\n",
    "train_loader = torch.utils.data.DataLoader(train_set, batch_size=1)\n",
    "val_loader = torch.utils.data.DataLoader(val_set, batch_size=1)\n"
   ]
  },
  {
   "cell_type": "markdown",
   "metadata": {},
   "source": [
    "### ML Model & Training"
   ]
  },
  {
   "cell_type": "code",
   "execution_count": 6,
   "metadata": {},
   "outputs": [
    {
     "name": "stdout",
     "output_type": "stream",
     "text": [
      "Epoch: 1, Training Time: 0.58s, Learning Rate: 0.2, Training Accuracy: 11.70%, Validation Accuracy: 9.90%\n",
      "Epoch: 2, Training Time: 1.33s, Learning Rate: 0.2, Training Accuracy: 11.70%, Validation Accuracy: 9.90%\n",
      "Epoch: 3, Training Time: 2.05s, Learning Rate: 0.2, Training Accuracy: 11.70%, Validation Accuracy: 9.90%\n",
      "Epoch: 4, Training Time: 3.02s, Learning Rate: 0.2, Training Accuracy: 11.70%, Validation Accuracy: 9.90%\n",
      "Epoch: 5, Training Time: 3.90s, Learning Rate: 0.2, Training Accuracy: 30.70%, Validation Accuracy: 26.80%\n",
      "Epoch: 6, Training Time: 4.63s, Learning Rate: 0.2, Training Accuracy: 29.00%, Validation Accuracy: 26.80%\n",
      "Epoch: 7, Training Time: 5.36s, Learning Rate: 0.2, Training Accuracy: 30.10%, Validation Accuracy: 28.10%\n",
      "Epoch: 8, Training Time: 6.09s, Learning Rate: 0.2, Training Accuracy: 35.80%, Validation Accuracy: 31.30%\n",
      "Epoch: 9, Training Time: 6.97s, Learning Rate: 0.2, Training Accuracy: 46.20%, Validation Accuracy: 42.60%\n",
      "Epoch: 10, Training Time: 7.77s, Learning Rate: 0.2, Training Accuracy: 54.30%, Validation Accuracy: 50.20%\n",
      "Epoch: 11, Training Time: 8.51s, Learning Rate: 0.2, Training Accuracy: 57.50%, Validation Accuracy: 54.40%\n",
      "Epoch: 12, Training Time: 9.23s, Learning Rate: 0.2, Training Accuracy: 63.90%, Validation Accuracy: 59.30%\n",
      "Epoch: 13, Training Time: 9.94s, Learning Rate: 0.2, Training Accuracy: 71.10%, Validation Accuracy: 65.60%\n",
      "Epoch: 14, Training Time: 10.81s, Learning Rate: 0.2, Training Accuracy: 75.40%, Validation Accuracy: 67.70%\n",
      "Epoch: 15, Training Time: 11.56s, Learning Rate: 0.2, Training Accuracy: 78.30%, Validation Accuracy: 69.40%\n",
      "Epoch: 16, Training Time: 12.29s, Learning Rate: 0.2, Training Accuracy: 81.70%, Validation Accuracy: 71.70%\n",
      "Epoch: 17, Training Time: 13.03s, Learning Rate: 0.2, Training Accuracy: 85.40%, Validation Accuracy: 74.00%\n",
      "Epoch: 18, Training Time: 13.78s, Learning Rate: 0.2, Training Accuracy: 87.80%, Validation Accuracy: 75.30%\n",
      "Epoch: 19, Training Time: 14.59s, Learning Rate: 0.2, Training Accuracy: 89.00%, Validation Accuracy: 76.40%\n",
      "Epoch: 20, Training Time: 15.38s, Learning Rate: 0.2, Training Accuracy: 89.60%, Validation Accuracy: 76.40%\n",
      "Epoch: 21, Training Time: 16.11s, Learning Rate: 0.2, Training Accuracy: 89.70%, Validation Accuracy: 76.80%\n",
      "Epoch: 22, Training Time: 16.83s, Learning Rate: 0.2, Training Accuracy: 90.20%, Validation Accuracy: 77.20%\n",
      "Epoch: 23, Training Time: 17.55s, Learning Rate: 0.2, Training Accuracy: 90.50%, Validation Accuracy: 77.30%\n",
      "Epoch: 24, Training Time: 18.41s, Learning Rate: 0.2, Training Accuracy: 91.00%, Validation Accuracy: 77.10%\n",
      "Epoch: 25, Training Time: 19.17s, Learning Rate: 0.2, Training Accuracy: 91.70%, Validation Accuracy: 77.20%\n",
      "Epoch: 26, Training Time: 19.91s, Learning Rate: 0.2, Training Accuracy: 92.10%, Validation Accuracy: 77.60%\n",
      "Epoch: 27, Training Time: 20.65s, Learning Rate: 0.2, Training Accuracy: 93.00%, Validation Accuracy: 78.90%\n",
      "Epoch: 28, Training Time: 21.38s, Learning Rate: 0.2, Training Accuracy: 94.10%, Validation Accuracy: 79.50%\n",
      "Epoch: 29, Training Time: 22.25s, Learning Rate: 0.2, Training Accuracy: 94.80%, Validation Accuracy: 80.00%\n",
      "Epoch: 30, Training Time: 23.02s, Learning Rate: 0.2, Training Accuracy: 95.40%, Validation Accuracy: 80.10%\n",
      "Epoch: 31, Training Time: 23.76s, Learning Rate: 0.2, Training Accuracy: 95.70%, Validation Accuracy: 80.40%\n",
      "Epoch: 32, Training Time: 24.49s, Learning Rate: 0.2, Training Accuracy: 96.00%, Validation Accuracy: 80.40%\n",
      "Epoch: 33, Training Time: 25.23s, Learning Rate: 0.2, Training Accuracy: 96.20%, Validation Accuracy: 81.30%\n",
      "Epoch: 34, Training Time: 26.06s, Learning Rate: 0.2, Training Accuracy: 96.20%, Validation Accuracy: 81.60%\n",
      "Epoch: 35, Training Time: 26.82s, Learning Rate: 0.2, Training Accuracy: 96.40%, Validation Accuracy: 81.30%\n",
      "Epoch: 36, Training Time: 27.54s, Learning Rate: 0.2, Training Accuracy: 96.30%, Validation Accuracy: 81.50%\n",
      "Epoch: 37, Training Time: 28.26s, Learning Rate: 0.2, Training Accuracy: 96.50%, Validation Accuracy: 81.70%\n",
      "Epoch: 38, Training Time: 28.98s, Learning Rate: 0.2, Training Accuracy: 96.50%, Validation Accuracy: 82.00%\n",
      "Epoch: 39, Training Time: 29.80s, Learning Rate: 0.2, Training Accuracy: 96.50%, Validation Accuracy: 82.40%\n",
      "Epoch: 40, Training Time: 30.56s, Learning Rate: 0.2, Training Accuracy: 96.60%, Validation Accuracy: 82.60%\n",
      "Epoch: 41, Training Time: 31.30s, Learning Rate: 0.2, Training Accuracy: 96.70%, Validation Accuracy: 82.70%\n",
      "Epoch: 42, Training Time: 32.04s, Learning Rate: 0.2, Training Accuracy: 97.10%, Validation Accuracy: 82.80%\n",
      "Epoch: 43, Training Time: 32.78s, Learning Rate: 0.2, Training Accuracy: 97.40%, Validation Accuracy: 83.10%\n",
      "Epoch: 44, Training Time: 33.59s, Learning Rate: 0.2, Training Accuracy: 97.50%, Validation Accuracy: 83.20%\n",
      "Epoch: 45, Training Time: 34.34s, Learning Rate: 0.2, Training Accuracy: 97.60%, Validation Accuracy: 83.30%\n",
      "Epoch: 46, Training Time: 35.07s, Learning Rate: 0.2, Training Accuracy: 97.70%, Validation Accuracy: 83.30%\n",
      "Epoch: 47, Training Time: 35.80s, Learning Rate: 0.2, Training Accuracy: 97.80%, Validation Accuracy: 82.90%\n",
      "Epoch: 48, Training Time: 36.57s, Learning Rate: 0.2, Training Accuracy: 97.80%, Validation Accuracy: 82.90%\n",
      "Epoch: 49, Training Time: 37.39s, Learning Rate: 0.2, Training Accuracy: 97.80%, Validation Accuracy: 83.10%\n",
      "Epoch: 50, Training Time: 38.13s, Learning Rate: 0.2, Training Accuracy: 97.90%, Validation Accuracy: 83.20%\n"
     ]
    }
   ],
   "source": [
    "torch_nn = TorchNetwork(sizes=[784, 128, 64, 10], learning_rate=0.2, epochs=50, random_state=GLOBAL_RANDOM_STATE)\n",
    "torch_nn.fit(train_loader, val_loader)"
   ]
  },
  {
   "cell_type": "markdown",
   "metadata": {},
   "source": [
    "## C) Visualize accuracy & hyperparameter tuning\n",
    "\n",
    "Here, you should compare the accuracy of all trained models. Optionally, you can also show the results of hyperparameter tuning and comment which hyperparameters work best for this task."
   ]
  },
  {
   "cell_type": "code",
   "execution_count": 7,
   "metadata": {},
   "outputs": [],
   "source": [
    "def accuracy_plot(model):\n",
    "    plt.plot(model.train_accuracies, label='Training Accuracy') #Need to implement in each model\n",
    "    plt.plot(model.val_accuracies, label='Validation Accuracy') #Need to implement in each model\n",
    "    plt.xlabel('Epochs')\n",
    "    plt.ylabel('Accuracy')\n",
    "    plt.title('Training and Validation Accuracy over Epochs')\n",
    "    plt.legend()\n",
    "    plt.show()"
   ]
  },
  {
   "cell_type": "code",
   "execution_count": 8,
   "metadata": {},
   "outputs": [
    {
     "data": {
      "image/png": "[encoded data removed]",
      "text/plain": [
       "<Figure size 640x480 with 1 Axes>"
      ]
     },
     "metadata": {},
     "output_type": "display_data"
    }
   ],
   "source": [
    "#accuracy_plot(fnn)\n",
    "#accuracy_plot(res_nn)\n",
    "accuracy_plot(torch_nn)\n"
   ]
  }
 ],
 "metadata": {
  "kernelspec": {
   "display_name": "Python 3 (ipykernel)",
   "language": "python",
   "name": "python3"
  },
  "language_info": {
   "codemirror_mode": {
    "name": "ipython",
    "version": 3
   },
   "file_extension": ".py",
   "mimetype": "text/x-python",
   "name": "python",
   "nbconvert_exporter": "python",
   "pygments_lexer": "ipython3",
   "version": "3.11.13"
  }
 },
 "nbformat": 4,
 "nbformat_minor": 4
}
