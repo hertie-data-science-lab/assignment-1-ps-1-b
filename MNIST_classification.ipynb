{
 "cells": [
  {
   "cell_type": "code",
   "execution_count": null,
   "metadata": {
    "collapsed": false,
    "jupyter": {
     "outputs_hidden": false
    }
   },
   "outputs": [],
   "source": [
    "# Problem Set 1 - Neural network implementation"
   ]
  },
  {
   "cell_type": "markdown",
   "metadata": {},
   "source": [
    "Team number: PS 1 B\n",
    "\n",
    "Team members: \n",
    "- Giorgio Coppola (224545)\n",
    "- Minho Kang (239742)\n",
    "- Sofiya Berdiyeva (246934)"
   ]
  },
  {
   "cell_type": "markdown",
   "metadata": {},
   "source": [
    "As described in section \"2 Neural network implementation\" of assignment 1, the goal is to build a shallow neural network from scratch using different approaches. To validate that your code is working and that the network is actually learning something, please use the following MNIST classification task. Finally, please submit proof of the learning progress as described in the assignment."
   ]
  },
  {
   "cell_type": "markdown",
   "metadata": {},
   "source": [
    "## Imports"
   ]
  },
  {
   "cell_type": "code",
   "execution_count": 1,
   "metadata": {
    "ExecuteTime": {
     "end_time": "2025-10-01T08:35:42.968452Z",
     "start_time": "2025-10-01T08:35:38.051447Z"
    }
   },
   "outputs": [],
   "source": [
    "import random\n",
    "import pandas as pd\n",
    "import numpy as np\n",
    "from sklearn import model_selection\n",
    "import sklearn.datasets as sk_datasets\n",
    "import torchvision.datasets as torch_datasets\n",
    "from torchvision import transforms\n",
    "import torch\n",
    "import matplotlib.pyplot as plt\n",
    "\n",
    "from scratch.network import Network\n",
    "from scratch.res_network import ResNetwork\n",
    "from pytorch.network import TorchNetwork\n",
    "from scratch.utils import *\n"
   ]
  },
  {
   "cell_type": "code",
   "execution_count": 2,
   "metadata": {
    "ExecuteTime": {
     "end_time": "2025-10-01T08:35:43.973718Z",
     "start_time": "2025-10-01T08:35:43.920008Z"
    }
   },
   "outputs": [],
   "source": [
    "# Automatically load changes in imported modules\n",
    "%load_ext autoreload\n",
    "%autoreload 2\n",
    "\n",
    "# Explicitly set seed for reproducibility\n",
    "GLOBAL_RANDOM_STATE = 42\n",
    "\n",
    "random.seed(GLOBAL_RANDOM_STATE)\n",
    "np.random.seed(GLOBAL_RANDOM_STATE)"
   ]
  },
  {
   "cell_type": "markdown",
   "metadata": {},
   "source": [
    "## A) Neural Network Classifier from Scratch"
   ]
  },
  {
   "cell_type": "markdown",
   "metadata": {},
   "source": [
    "### Data"
   ]
  },
  {
   "cell_type": "code",
   "execution_count": 3,
   "metadata": {
    "ExecuteTime": {
     "end_time": "2025-10-01T07:49:14.522968Z",
     "start_time": "2025-10-01T07:49:11.525294Z"
    }
   },
   "outputs": [],
   "source": [
    "# Download MNIST dataset\n",
    "x, y_cat = sk_datasets.fetch_openml('mnist_784', version=1, return_X_y=True, cache=True, as_frame=False)\n",
    "\n",
    "# Preprocess dataset\n",
    "x = (x / 255).astype('float32')\n",
    "y_cat = y_cat.astype(int)\n",
    "# One-hot encode y\n",
    "y = np.zeros((len(y_cat), 10))\n",
    "for i, val in enumerate(y_cat):\n",
    "    y[i, val] = 1\n",
    "\n",
    "# Use only small subset of data for faster training\n",
    "x = x[:1000]\n",
    "y = y[:1000]\n",
    "\n",
    "# Split data into train and validation set\n",
    "x_train, x_val, y_train, y_val = model_selection.train_test_split(x, y, test_size=0.2, random_state=GLOBAL_RANDOM_STATE)\n"
   ]
  },
  {
   "cell_type": "markdown",
   "metadata": {},
   "source": [
    "### ML Model & Training"
   ]
  },
  {
   "cell_type": "code",
   "execution_count": 4,
   "metadata": {
    "ExecuteTime": {
     "end_time": "2025-10-01T07:49:32.565177Z",
     "start_time": "2025-10-01T07:49:16.501560Z"
    }
   },
   "outputs": [
    {
     "name": "stdout",
     "output_type": "stream",
     "text": [
      "Epoch: 1, Training Time: 0.29s, Training Accuracy: 44.38%, Validation Accuracy: 41.00%\n",
      "Epoch: 2, Training Time: 0.51s, Training Accuracy: 74.00%, Validation Accuracy: 70.00%\n",
      "Epoch: 3, Training Time: 0.73s, Training Accuracy: 82.50%, Validation Accuracy: 80.00%\n",
      "Epoch: 4, Training Time: 0.91s, Training Accuracy: 88.62%, Validation Accuracy: 82.00%\n",
      "Epoch: 5, Training Time: 1.13s, Training Accuracy: 92.00%, Validation Accuracy: 83.50%\n",
      "Epoch: 6, Training Time: 1.31s, Training Accuracy: 93.88%, Validation Accuracy: 84.50%\n",
      "Epoch: 7, Training Time: 1.53s, Training Accuracy: 95.12%, Validation Accuracy: 83.00%\n",
      "Epoch: 8, Training Time: 1.71s, Training Accuracy: 95.62%, Validation Accuracy: 83.00%\n",
      "Epoch: 9, Training Time: 1.92s, Training Accuracy: 96.75%, Validation Accuracy: 84.50%\n",
      "Epoch: 10, Training Time: 2.15s, Training Accuracy: 97.25%, Validation Accuracy: 85.00%\n",
      "Epoch: 11, Training Time: 2.34s, Training Accuracy: 97.88%, Validation Accuracy: 84.50%\n",
      "Epoch: 12, Training Time: 2.55s, Training Accuracy: 98.12%, Validation Accuracy: 85.50%\n",
      "Epoch: 13, Training Time: 2.77s, Training Accuracy: 98.25%, Validation Accuracy: 85.50%\n",
      "Epoch: 14, Training Time: 2.96s, Training Accuracy: 98.75%, Validation Accuracy: 86.50%\n",
      "Epoch: 15, Training Time: 3.17s, Training Accuracy: 98.88%, Validation Accuracy: 87.00%\n",
      "Epoch: 16, Training Time: 3.48s, Training Accuracy: 98.88%, Validation Accuracy: 87.00%\n",
      "Epoch: 17, Training Time: 3.69s, Training Accuracy: 98.88%, Validation Accuracy: 87.50%\n",
      "Epoch: 18, Training Time: 3.88s, Training Accuracy: 99.00%, Validation Accuracy: 88.00%\n",
      "Epoch: 19, Training Time: 4.10s, Training Accuracy: 99.00%, Validation Accuracy: 88.00%\n",
      "Epoch: 20, Training Time: 4.32s, Training Accuracy: 99.12%, Validation Accuracy: 88.00%\n",
      "Epoch: 21, Training Time: 4.51s, Training Accuracy: 99.12%, Validation Accuracy: 88.00%\n",
      "Epoch: 22, Training Time: 4.72s, Training Accuracy: 99.12%, Validation Accuracy: 88.50%\n",
      "Epoch: 23, Training Time: 4.91s, Training Accuracy: 99.12%, Validation Accuracy: 88.50%\n",
      "Epoch: 24, Training Time: 5.16s, Training Accuracy: 99.12%, Validation Accuracy: 88.50%\n",
      "Epoch: 25, Training Time: 5.39s, Training Accuracy: 99.12%, Validation Accuracy: 88.50%\n",
      "Epoch: 26, Training Time: 5.62s, Training Accuracy: 99.12%, Validation Accuracy: 88.50%\n",
      "Epoch: 27, Training Time: 5.84s, Training Accuracy: 99.12%, Validation Accuracy: 88.50%\n",
      "Epoch: 28, Training Time: 6.03s, Training Accuracy: 99.12%, Validation Accuracy: 88.50%\n",
      "Epoch: 29, Training Time: 6.24s, Training Accuracy: 99.12%, Validation Accuracy: 88.50%\n",
      "Epoch: 30, Training Time: 6.45s, Training Accuracy: 99.12%, Validation Accuracy: 88.50%\n",
      "Epoch: 31, Training Time: 6.64s, Training Accuracy: 99.12%, Validation Accuracy: 88.50%\n",
      "Epoch: 32, Training Time: 6.85s, Training Accuracy: 99.12%, Validation Accuracy: 88.50%\n",
      "Epoch: 33, Training Time: 7.04s, Training Accuracy: 99.12%, Validation Accuracy: 88.50%\n",
      "Epoch: 34, Training Time: 7.22s, Training Accuracy: 99.25%, Validation Accuracy: 88.50%\n",
      "Epoch: 35, Training Time: 7.44s, Training Accuracy: 99.25%, Validation Accuracy: 89.50%\n",
      "Epoch: 36, Training Time: 7.65s, Training Accuracy: 99.25%, Validation Accuracy: 89.50%\n",
      "Epoch: 37, Training Time: 7.84s, Training Accuracy: 99.25%, Validation Accuracy: 89.50%\n",
      "Epoch: 38, Training Time: 8.05s, Training Accuracy: 99.38%, Validation Accuracy: 89.50%\n",
      "Epoch: 39, Training Time: 8.24s, Training Accuracy: 99.38%, Validation Accuracy: 88.50%\n",
      "Epoch: 40, Training Time: 8.42s, Training Accuracy: 99.38%, Validation Accuracy: 88.50%\n",
      "Epoch: 41, Training Time: 8.64s, Training Accuracy: 99.38%, Validation Accuracy: 88.50%\n",
      "Epoch: 42, Training Time: 8.84s, Training Accuracy: 99.50%, Validation Accuracy: 89.00%\n",
      "Epoch: 43, Training Time: 9.03s, Training Accuracy: 99.50%, Validation Accuracy: 90.00%\n",
      "Epoch: 44, Training Time: 9.25s, Training Accuracy: 99.50%, Validation Accuracy: 90.00%\n",
      "Epoch: 45, Training Time: 9.43s, Training Accuracy: 99.50%, Validation Accuracy: 90.00%\n",
      "Epoch: 46, Training Time: 9.64s, Training Accuracy: 99.50%, Validation Accuracy: 90.00%\n",
      "Epoch: 47, Training Time: 9.86s, Training Accuracy: 99.50%, Validation Accuracy: 90.00%\n",
      "Epoch: 48, Training Time: 10.04s, Training Accuracy: 99.50%, Validation Accuracy: 90.00%\n",
      "Epoch: 49, Training Time: 10.26s, Training Accuracy: 99.50%, Validation Accuracy: 90.00%\n",
      "Epoch: 50, Training Time: 10.44s, Training Accuracy: 99.50%, Validation Accuracy: 90.00%\n"
     ]
    }
   ],
   "source": [
    "fnn = Network(sizes=[784, 128, 64, 10], learning_rate=0.1, epochs=50)\n",
    "fnn.fit(x_train, y_train, x_val, y_val, cosine_annealing_lr=False)"
   ]
  },
  {
   "cell_type": "markdown",
   "metadata": {},
   "source": [
    "### Test cosine annealing scheduler"
   ]
  },
  {
   "cell_type": "code",
   "execution_count": 9,
   "metadata": {},
   "outputs": [
    {
     "name": "stdout",
     "output_type": "stream",
     "text": [
      "Epoch: 1, Training Time: 0.01s, Training Accuracy: 0.00%, Validation Accuracy: 0.00%\n",
      "Epoch: 2, Training Time: 0.01s, Training Accuracy: 0.00%, Validation Accuracy: 0.00%\n",
      "Epoch: 3, Training Time: 0.02s, Training Accuracy: 0.00%, Validation Accuracy: 0.00%\n",
      "Epoch: 4, Training Time: 0.02s, Training Accuracy: 0.00%, Validation Accuracy: 0.00%\n",
      "Epoch: 5, Training Time: 0.03s, Training Accuracy: 0.00%, Validation Accuracy: 0.00%\n",
      "Epoch: 6, Training Time: 0.03s, Training Accuracy: 0.00%, Validation Accuracy: 0.00%\n",
      "Epoch: 7, Training Time: 0.04s, Training Accuracy: 0.00%, Validation Accuracy: 0.00%\n",
      "Epoch: 8, Training Time: 0.04s, Training Accuracy: 0.00%, Validation Accuracy: 0.00%\n",
      "Epoch: 9, Training Time: 0.05s, Training Accuracy: 0.00%, Validation Accuracy: 0.00%\n",
      "Epoch: 10, Training Time: 0.05s, Training Accuracy: 0.00%, Validation Accuracy: 0.00%\n",
      "Epoch: 11, Training Time: 0.05s, Training Accuracy: 0.00%, Validation Accuracy: 0.00%\n",
      "Epoch: 12, Training Time: 0.06s, Training Accuracy: 0.00%, Validation Accuracy: 0.00%\n",
      "Epoch: 13, Training Time: 0.06s, Training Accuracy: 0.00%, Validation Accuracy: 0.00%\n",
      "Epoch: 14, Training Time: 0.07s, Training Accuracy: 0.00%, Validation Accuracy: 0.00%\n",
      "Epoch: 15, Training Time: 0.07s, Training Accuracy: 0.00%, Validation Accuracy: 0.00%\n",
      "Epoch: 16, Training Time: 0.07s, Training Accuracy: 0.00%, Validation Accuracy: 0.00%\n",
      "Epoch: 17, Training Time: 0.08s, Training Accuracy: 0.00%, Validation Accuracy: 0.00%\n",
      "Epoch: 18, Training Time: 0.08s, Training Accuracy: 0.00%, Validation Accuracy: 0.00%\n",
      "Epoch: 19, Training Time: 0.09s, Training Accuracy: 0.00%, Validation Accuracy: 0.00%\n",
      "Epoch: 20, Training Time: 0.09s, Training Accuracy: 0.00%, Validation Accuracy: 0.00%\n",
      "Epoch: 21, Training Time: 0.09s, Training Accuracy: 0.00%, Validation Accuracy: 0.00%\n",
      "Epoch: 22, Training Time: 0.10s, Training Accuracy: 0.00%, Validation Accuracy: 0.00%\n",
      "Epoch: 23, Training Time: 0.10s, Training Accuracy: 0.00%, Validation Accuracy: 0.00%\n",
      "Epoch: 24, Training Time: 0.11s, Training Accuracy: 0.00%, Validation Accuracy: 0.00%\n",
      "Epoch: 25, Training Time: 0.11s, Training Accuracy: 0.00%, Validation Accuracy: 0.00%\n",
      "Epoch: 26, Training Time: 0.12s, Training Accuracy: 0.00%, Validation Accuracy: 0.00%\n",
      "Epoch: 27, Training Time: 0.12s, Training Accuracy: 0.00%, Validation Accuracy: 0.00%\n",
      "Epoch: 28, Training Time: 0.12s, Training Accuracy: 0.00%, Validation Accuracy: 0.00%\n",
      "Epoch: 29, Training Time: 0.13s, Training Accuracy: 0.00%, Validation Accuracy: 0.00%\n",
      "Epoch: 30, Training Time: 0.14s, Training Accuracy: 0.00%, Validation Accuracy: 0.00%\n",
      "Epoch: 31, Training Time: 0.14s, Training Accuracy: 0.00%, Validation Accuracy: 0.00%\n",
      "Epoch: 32, Training Time: 0.15s, Training Accuracy: 0.00%, Validation Accuracy: 0.00%\n",
      "Epoch: 33, Training Time: 0.15s, Training Accuracy: 0.00%, Validation Accuracy: 0.00%\n",
      "Epoch: 34, Training Time: 0.16s, Training Accuracy: 0.00%, Validation Accuracy: 0.00%\n",
      "Epoch: 35, Training Time: 0.16s, Training Accuracy: 0.00%, Validation Accuracy: 0.00%\n",
      "Epoch: 36, Training Time: 0.16s, Training Accuracy: 0.00%, Validation Accuracy: 0.00%\n",
      "Epoch: 37, Training Time: 0.17s, Training Accuracy: 0.00%, Validation Accuracy: 0.00%\n",
      "Epoch: 38, Training Time: 0.18s, Training Accuracy: 0.00%, Validation Accuracy: 0.00%\n",
      "Epoch: 39, Training Time: 0.18s, Training Accuracy: 0.00%, Validation Accuracy: 0.00%\n",
      "Epoch: 40, Training Time: 0.19s, Training Accuracy: 0.00%, Validation Accuracy: 0.00%\n",
      "Epoch: 41, Training Time: 0.19s, Training Accuracy: 0.00%, Validation Accuracy: 0.00%\n",
      "Epoch: 42, Training Time: 0.20s, Training Accuracy: 0.00%, Validation Accuracy: 0.00%\n",
      "Epoch: 43, Training Time: 0.20s, Training Accuracy: 0.00%, Validation Accuracy: 0.00%\n",
      "Epoch: 44, Training Time: 0.21s, Training Accuracy: 0.00%, Validation Accuracy: 0.00%\n",
      "Epoch: 45, Training Time: 0.21s, Training Accuracy: 0.00%, Validation Accuracy: 0.00%\n",
      "Epoch: 46, Training Time: 0.22s, Training Accuracy: 0.00%, Validation Accuracy: 0.00%\n",
      "Epoch: 47, Training Time: 0.22s, Training Accuracy: 0.00%, Validation Accuracy: 0.00%\n",
      "Epoch: 48, Training Time: 0.23s, Training Accuracy: 0.00%, Validation Accuracy: 0.00%\n",
      "Epoch: 49, Training Time: 0.23s, Training Accuracy: 0.00%, Validation Accuracy: 0.00%\n",
      "Epoch: 50, Training Time: 0.23s, Training Accuracy: 0.00%, Validation Accuracy: 0.00%\n"
     ]
    }
   ],
   "source": [
    "fnn.fit(x_train, y_train, x_val, y_val, cosine_annealing_lr=True)"
   ]
  },
  {
   "cell_type": "markdown",
   "metadata": {},
   "source": [
    "### Test residual neural network"
   ]
  },
  {
   "cell_type": "code",
   "execution_count": 1,
   "metadata": {
    "ExecuteTime": {
     "end_time": "2025-10-01T08:35:19.662363Z",
     "start_time": "2025-10-01T08:35:19.530660Z"
    }
   },
   "outputs": [
    {
     "ename": "NameError",
     "evalue": "name 'ResNetwork' is not defined",
     "output_type": "error",
     "traceback": [
      "\u001b[31m---------------------------------------------------------------------------\u001b[39m",
      "\u001b[31mNameError\u001b[39m                                 Traceback (most recent call last)",
      "\u001b[36mCell\u001b[39m\u001b[36m \u001b[39m\u001b[32mIn[1]\u001b[39m\u001b[32m, line 1\u001b[39m\n\u001b[32m----> \u001b[39m\u001b[32m1\u001b[39m res_nn = \u001b[43mResNetwork\u001b[49m(sizes=[\u001b[32m784\u001b[39m, \u001b[32m128\u001b[39m, \u001b[32m128\u001b[39m, \u001b[32m10\u001b[39m], learning_rate=\u001b[32m1\u001b[39m, epochs=\u001b[32m50\u001b[39m)\n\u001b[32m      2\u001b[39m res_nn.fit(x_train, y_train, x_val, y_val)\n",
      "\u001b[31mNameError\u001b[39m: name 'ResNetwork' is not defined"
     ]
    }
   ],
   "source": [
    "res_nn = ResNetwork(sizes=[784, 128, 128, 10], learning_rate=1, epochs=50)\n",
    "res_nn.fit(x_train, y_train, x_val, y_val)"
   ]
  },
  {
   "cell_type": "markdown",
   "metadata": {},
   "source": [
    "## B) Neural Network Classifier using Torch"
   ]
  },
  {
   "cell_type": "markdown",
   "metadata": {},
   "source": [
    "### Data"
   ]
  },
  {
   "cell_type": "code",
   "execution_count": 7,
   "metadata": {
    "ExecuteTime": {
     "end_time": "2025-10-01T08:35:57.104081Z",
     "start_time": "2025-10-01T08:35:56.586449Z"
    }
   },
   "outputs": [],
   "source": [
    "# Define data preprocessing steps\n",
    "transform = transforms.Compose([\n",
    "                transforms.ToTensor(),\n",
    "                transforms.Normalize((0.5,), (0.5,))\n",
    "            ])\n",
    "\n",
    "# Download MNIST dataset\n",
    "train_set = torch_datasets.MNIST('data', train=True, download=True, transform=transform)\n",
    "val_set = torch_datasets.MNIST('data', train=False, download=True, transform=transform)\n",
    "\n",
    "# Use only small subset of data for faster training\n",
    "train_set = torch.utils.data.Subset(train_set, range(1000))\n",
    "val_set = torch.utils.data.Subset(val_set, range(1000))\n",
    "\n",
    "# Utilize PyTorch DataLoader from simplified & harmonized loading of data\n",
    "train_loader = torch.utils.data.DataLoader(train_set, batch_size=1)\n",
    "val_loader = torch.utils.data.DataLoader(val_set, batch_size=1)\n"
   ]
  },
  {
   "cell_type": "markdown",
   "metadata": {},
   "source": [
    "### ML Model & Training"
   ]
  },
  {
   "cell_type": "code",
   "execution_count": 8,
   "metadata": {},
   "outputs": [
    {
     "name": "stdout",
     "output_type": "stream",
     "text": [
      "Epoch: 1, Training Time: 0.59s, Learning Rate: 0.2, Training Accuracy: 11.70%, Validation Accuracy: 9.90%\n",
      "Epoch: 2, Training Time: 1.34s, Learning Rate: 0.2, Training Accuracy: 11.70%, Validation Accuracy: 9.90%\n",
      "Epoch: 3, Training Time: 2.08s, Learning Rate: 0.2, Training Accuracy: 11.70%, Validation Accuracy: 9.90%\n",
      "Epoch: 4, Training Time: 2.81s, Learning Rate: 0.2, Training Accuracy: 11.70%, Validation Accuracy: 9.90%\n",
      "Epoch: 5, Training Time: 3.53s, Learning Rate: 0.2, Training Accuracy: 30.70%, Validation Accuracy: 26.80%\n",
      "Epoch: 6, Training Time: 4.26s, Learning Rate: 0.2, Training Accuracy: 29.00%, Validation Accuracy: 26.80%\n",
      "Epoch: 7, Training Time: 5.01s, Learning Rate: 0.2, Training Accuracy: 30.10%, Validation Accuracy: 28.10%\n",
      "Epoch: 8, Training Time: 5.75s, Learning Rate: 0.2, Training Accuracy: 35.80%, Validation Accuracy: 31.30%\n",
      "Epoch: 9, Training Time: 6.48s, Learning Rate: 0.2, Training Accuracy: 46.20%, Validation Accuracy: 42.60%\n",
      "Epoch: 10, Training Time: 7.21s, Learning Rate: 0.2, Training Accuracy: 54.30%, Validation Accuracy: 50.20%\n",
      "Epoch: 11, Training Time: 7.94s, Learning Rate: 0.2, Training Accuracy: 57.50%, Validation Accuracy: 54.40%\n",
      "Epoch: 12, Training Time: 8.65s, Learning Rate: 0.2, Training Accuracy: 63.90%, Validation Accuracy: 59.30%\n",
      "Epoch: 13, Training Time: 9.37s, Learning Rate: 0.2, Training Accuracy: 71.10%, Validation Accuracy: 65.60%\n",
      "Epoch: 14, Training Time: 10.10s, Learning Rate: 0.2, Training Accuracy: 75.40%, Validation Accuracy: 67.70%\n",
      "Epoch: 15, Training Time: 10.84s, Learning Rate: 0.2, Training Accuracy: 78.30%, Validation Accuracy: 69.40%\n",
      "Epoch: 16, Training Time: 11.56s, Learning Rate: 0.2, Training Accuracy: 81.70%, Validation Accuracy: 71.70%\n",
      "Epoch: 17, Training Time: 12.29s, Learning Rate: 0.2, Training Accuracy: 85.40%, Validation Accuracy: 74.00%\n",
      "Epoch: 18, Training Time: 13.01s, Learning Rate: 0.2, Training Accuracy: 87.80%, Validation Accuracy: 75.30%\n",
      "Epoch: 19, Training Time: 13.74s, Learning Rate: 0.2, Training Accuracy: 89.00%, Validation Accuracy: 76.40%\n",
      "Epoch: 20, Training Time: 14.47s, Learning Rate: 0.2, Training Accuracy: 89.60%, Validation Accuracy: 76.40%\n",
      "Epoch: 21, Training Time: 15.20s, Learning Rate: 0.2, Training Accuracy: 89.70%, Validation Accuracy: 76.80%\n",
      "Epoch: 22, Training Time: 15.93s, Learning Rate: 0.2, Training Accuracy: 90.20%, Validation Accuracy: 77.20%\n",
      "Epoch: 23, Training Time: 16.66s, Learning Rate: 0.2, Training Accuracy: 90.50%, Validation Accuracy: 77.30%\n",
      "Epoch: 24, Training Time: 17.38s, Learning Rate: 0.2, Training Accuracy: 91.00%, Validation Accuracy: 77.10%\n",
      "Epoch: 25, Training Time: 18.11s, Learning Rate: 0.2, Training Accuracy: 91.70%, Validation Accuracy: 77.20%\n",
      "Epoch: 26, Training Time: 18.86s, Learning Rate: 0.2, Training Accuracy: 92.10%, Validation Accuracy: 77.60%\n",
      "Epoch: 27, Training Time: 19.60s, Learning Rate: 0.2, Training Accuracy: 93.00%, Validation Accuracy: 78.90%\n",
      "Epoch: 28, Training Time: 20.33s, Learning Rate: 0.2, Training Accuracy: 94.10%, Validation Accuracy: 79.50%\n",
      "Epoch: 29, Training Time: 21.04s, Learning Rate: 0.2, Training Accuracy: 94.80%, Validation Accuracy: 80.00%\n",
      "Epoch: 30, Training Time: 21.76s, Learning Rate: 0.2, Training Accuracy: 95.40%, Validation Accuracy: 80.10%\n",
      "Epoch: 31, Training Time: 22.48s, Learning Rate: 0.2, Training Accuracy: 95.70%, Validation Accuracy: 80.40%\n",
      "Epoch: 32, Training Time: 23.20s, Learning Rate: 0.2, Training Accuracy: 96.00%, Validation Accuracy: 80.40%\n",
      "Epoch: 33, Training Time: 23.91s, Learning Rate: 0.2, Training Accuracy: 96.20%, Validation Accuracy: 81.30%\n",
      "Epoch: 34, Training Time: 24.62s, Learning Rate: 0.2, Training Accuracy: 96.20%, Validation Accuracy: 81.60%\n",
      "Epoch: 35, Training Time: 25.34s, Learning Rate: 0.2, Training Accuracy: 96.40%, Validation Accuracy: 81.30%\n",
      "Epoch: 36, Training Time: 26.06s, Learning Rate: 0.2, Training Accuracy: 96.30%, Validation Accuracy: 81.50%\n",
      "Epoch: 37, Training Time: 26.77s, Learning Rate: 0.2, Training Accuracy: 96.50%, Validation Accuracy: 81.70%\n",
      "Epoch: 38, Training Time: 27.50s, Learning Rate: 0.2, Training Accuracy: 96.50%, Validation Accuracy: 82.00%\n",
      "Epoch: 39, Training Time: 28.23s, Learning Rate: 0.2, Training Accuracy: 96.50%, Validation Accuracy: 82.40%\n",
      "Epoch: 40, Training Time: 28.95s, Learning Rate: 0.2, Training Accuracy: 96.60%, Validation Accuracy: 82.60%\n",
      "Epoch: 41, Training Time: 29.68s, Learning Rate: 0.2, Training Accuracy: 96.70%, Validation Accuracy: 82.70%\n",
      "Epoch: 42, Training Time: 30.41s, Learning Rate: 0.2, Training Accuracy: 97.10%, Validation Accuracy: 82.80%\n",
      "Epoch: 43, Training Time: 31.13s, Learning Rate: 0.2, Training Accuracy: 97.40%, Validation Accuracy: 83.10%\n",
      "Epoch: 44, Training Time: 31.85s, Learning Rate: 0.2, Training Accuracy: 97.50%, Validation Accuracy: 83.20%\n",
      "Epoch: 45, Training Time: 32.58s, Learning Rate: 0.2, Training Accuracy: 97.60%, Validation Accuracy: 83.30%\n",
      "Epoch: 46, Training Time: 33.32s, Learning Rate: 0.2, Training Accuracy: 97.70%, Validation Accuracy: 83.30%\n",
      "Epoch: 47, Training Time: 34.05s, Learning Rate: 0.2, Training Accuracy: 97.80%, Validation Accuracy: 82.90%\n",
      "Epoch: 48, Training Time: 34.79s, Learning Rate: 0.2, Training Accuracy: 97.80%, Validation Accuracy: 82.90%\n",
      "Epoch: 49, Training Time: 35.50s, Learning Rate: 0.2, Training Accuracy: 97.80%, Validation Accuracy: 83.10%\n",
      "Epoch: 50, Training Time: 36.21s, Learning Rate: 0.2, Training Accuracy: 97.90%, Validation Accuracy: 83.20%\n"
     ]
    }
   ],
   "source": [
    "torch_nn = TorchNetwork(sizes=[784, 128, 64, 10], learning_rate=0.2, epochs=50, random_state=GLOBAL_RANDOM_STATE)\n",
    "torch_nn.fit(train_loader, val_loader)"
   ]
  },
  {
   "cell_type": "markdown",
   "metadata": {},
   "source": [
    "## C) Visualize accuracy & hyperparameter tuning\n",
    "\n",
    "Here, you should compare the accuracy of all trained models. Optionally, you can also show the results of hyperparameter tuning and comment which hyperparameters work best for this task."
   ]
  },
  {
   "cell_type": "code",
   "execution_count": 9,
   "metadata": {},
   "outputs": [],
   "source": [
    "def accuracy_plot(model):\n",
    "    plt.plot(model.train_accuracies, label='Training Accuracy') #Need to implement in each model\n",
    "    plt.plot(model.val_accuracies, label='Validation Accuracy') #Need to implement in each model\n",
    "    plt.xlabel('Epochs')\n",
    "    plt.ylabel('Accuracy')\n",
    "    plt.title('Training and Validation Accuracy over Epochs')\n",
    "    plt.legend()\n",
    "    plt.show()"
   ]
  },
  {
   "cell_type": "code",
   "execution_count": 10,
   "metadata": {},
   "outputs": [
    {
     "data": {
      "image/png": "[encoded data removed]",
      "text/plain": [
       "<Figure size 640x480 with 1 Axes>"
      ]
     },
     "metadata": {},
     "output_type": "display_data"
    },
    {
     "data": {
      "image/png": "[encoded data removed]",
      "text/plain": [
       "<Figure size 640x480 with 1 Axes>"
      ]
     },
     "metadata": {},
     "output_type": "display_data"
    }
   ],
   "source": [
    "accuracy_plot(fnn)\n",
    "#accuracy_plot(res_nn)\n",
    "accuracy_plot(torch_nn)\n"
   ]
  }
 ],
 "metadata": {
  "kernelspec": {
   "display_name": "Python 3 (ipykernel)",
   "language": "python",
   "name": "python3"
  },
  "language_info": {
   "codemirror_mode": {
    "name": "ipython",
    "version": 3
   },
   "file_extension": ".py",
   "mimetype": "text/x-python",
   "name": "python",
   "nbconvert_exporter": "python",
   "pygments_lexer": "ipython3",
   "version": "3.11.13"
  }
 },
 "nbformat": 4,
 "nbformat_minor": 4
}
