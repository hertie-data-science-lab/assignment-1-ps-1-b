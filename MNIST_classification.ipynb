{
 "cells": [
  {
   "cell_type": "markdown",
   "metadata": {},
   "source": [
    "# Problem Set 1 - Neural network implementation"
   ]
  },
  {
   "cell_type": "markdown",
   "metadata": {},
   "source": [
    "Team number: PS 1 B\n",
    "\n",
    "Team members: \n",
    "- Giorgio Coppola (224545)\n",
    "- Minho Kang (239742)\n",
    "- Sofiya Berdiyeva (246934)"
   ]
  },
  {
   "cell_type": "markdown",
   "metadata": {},
   "source": [
    "As described in section \"2 Neural network implementation\" of assignment 1, the goal is to build a shallow neural network from scratch using different approaches. To validate that your code is working and that the network is actually learning something, please use the following MNIST classification task. Finally, please submit proof of the learning progress as described in the assignment."
   ]
  },
  {
   "cell_type": "markdown",
   "metadata": {},
   "source": [
    "## Imports"
   ]
  },
  {
   "cell_type": "code",
   "execution_count": 7,
   "metadata": {
    "ExecuteTime": {
     "end_time": "2025-10-01T07:49:08.273200Z",
     "start_time": "2025-10-01T07:49:08.244453Z"
    }
   },
   "outputs": [],
   "source": [
    "import random\n",
    "import pandas as pd\n",
    "import numpy as np\n",
    "from sklearn import model_selection\n",
    "import sklearn.datasets as sk_datasets\n",
    "import torchvision.datasets as torch_datasets\n",
    "from torchvision import transforms\n",
    "import torch\n",
    "import matplotlib.pyplot as plt\n",
    "\n",
    "from scratch.network import Network\n",
    "from scratch.res_network import ResNetwork\n",
    "from pytorch.network import TorchNetwork\n",
    "from scratch.utils import *\n"
   ]
  },
  {
   "cell_type": "code",
   "execution_count": 8,
   "metadata": {
    "ExecuteTime": {
     "end_time": "2025-10-01T07:49:10.044359Z",
     "start_time": "2025-10-01T07:49:10.016531Z"
    }
   },
   "outputs": [
    {
     "name": "stdout",
     "output_type": "stream",
     "text": [
      "The autoreload extension is already loaded. To reload it, use:\n",
      "  %reload_ext autoreload\n"
     ]
    }
   ],
   "source": [
    "# Automatically load changes in imported modules\n",
    "%load_ext autoreload\n",
    "%autoreload 2\n",
    "\n",
    "# Explicitly set seed for reproducibility\n",
    "GLOBAL_RANDOM_STATE = 42\n",
    "\n",
    "random.seed(GLOBAL_RANDOM_STATE)\n",
    "np.random.seed(GLOBAL_RANDOM_STATE)"
   ]
  },
  {
   "cell_type": "markdown",
   "metadata": {},
   "source": [
    "## A) Neural Network Classifier from Scratch"
   ]
  },
  {
   "cell_type": "markdown",
   "metadata": {},
   "source": [
    "### Data"
   ]
  },
  {
   "cell_type": "code",
   "execution_count": 9,
   "metadata": {
    "ExecuteTime": {
     "end_time": "2025-10-01T07:49:14.522968Z",
     "start_time": "2025-10-01T07:49:11.525294Z"
    }
   },
   "outputs": [],
   "source": [
    "# Download MNIST dataset\n",
    "x, y_cat = sk_datasets.fetch_openml('mnist_784', version=1, return_X_y=True, cache=True, as_frame=False)\n",
    "\n",
    "# Preprocess dataset\n",
    "x = (x / 255).astype('float32')\n",
    "y_cat = y_cat.astype(int)\n",
    "# One-hot encode y\n",
    "y = np.zeros((len(y_cat), 10))\n",
    "for i, val in enumerate(y_cat):\n",
    "    y[i, val] = 1\n",
    "\n",
    "# Use only small subset of data for faster training\n",
    "x = x[:1000]\n",
    "y = y[:1000]\n",
    "\n",
    "# Split data into train and validation set\n",
    "x_train, x_val, y_train, y_val = model_selection.train_test_split(x, y, test_size=0.2, random_state=GLOBAL_RANDOM_STATE)\n"
   ]
  },
  {
   "cell_type": "markdown",
   "metadata": {},
   "source": [
    "### ML Model & Training"
   ]
  },
  {
   "cell_type": "code",
   "execution_count": 10,
   "metadata": {
    "ExecuteTime": {
     "end_time": "2025-10-01T07:49:32.565177Z",
     "start_time": "2025-10-01T07:49:16.501560Z"
    }
   },
   "outputs": [
    {
     "name": "stderr",
     "output_type": "stream",
     "text": [
      "/Users/giocopp/Desktop/Uni/Hertie School/5th Semester/DL/DL-PSs/assignment-1-ps-1-b/scratch/utils.py:5: RuntimeWarning: overflow encountered in exp\n",
      "  return 1 / (1 + np.exp(-x))\n"
     ]
    },
    {
     "name": "stdout",
     "output_type": "stream",
     "text": [
      "Epoch: 1, Training Time: 0.37s, Training Accuracy: 9.75%, Validation Accuracy: 9.50%\n",
      "Epoch: 2, Training Time: 0.71s, Training Accuracy: 9.75%, Validation Accuracy: 9.50%\n",
      "Epoch: 3, Training Time: 1.07s, Training Accuracy: 9.75%, Validation Accuracy: 9.50%\n",
      "Epoch: 4, Training Time: 1.40s, Training Accuracy: 9.75%, Validation Accuracy: 9.50%\n"
     ]
    },
    {
     "name": "stderr",
     "output_type": "stream",
     "text": [
      "/Users/giocopp/Desktop/Uni/Hertie School/5th Semester/DL/DL-PSs/assignment-1-ps-1-b/scratch/utils.py:14: RuntimeWarning: invalid value encountered in divide\n",
      "  return exps / np.sum(exps, axis=0)\n"
     ]
    },
    {
     "name": "stdout",
     "output_type": "stream",
     "text": [
      "Epoch: 5, Training Time: 1.74s, Training Accuracy: 9.75%, Validation Accuracy: 9.50%\n",
      "Epoch: 6, Training Time: 2.01s, Training Accuracy: 9.75%, Validation Accuracy: 9.50%\n",
      "Epoch: 7, Training Time: 2.28s, Training Accuracy: 9.75%, Validation Accuracy: 9.50%\n",
      "Epoch: 8, Training Time: 2.55s, Training Accuracy: 9.75%, Validation Accuracy: 9.50%\n",
      "Epoch: 9, Training Time: 2.82s, Training Accuracy: 9.75%, Validation Accuracy: 9.50%\n",
      "Epoch: 10, Training Time: 3.08s, Training Accuracy: 9.75%, Validation Accuracy: 9.50%\n",
      "Epoch: 11, Training Time: 3.36s, Training Accuracy: 9.75%, Validation Accuracy: 9.50%\n",
      "Epoch: 12, Training Time: 3.62s, Training Accuracy: 9.75%, Validation Accuracy: 9.50%\n",
      "Epoch: 13, Training Time: 3.88s, Training Accuracy: 9.75%, Validation Accuracy: 9.50%\n",
      "Epoch: 14, Training Time: 4.17s, Training Accuracy: 9.75%, Validation Accuracy: 9.50%\n",
      "Epoch: 15, Training Time: 4.46s, Training Accuracy: 9.75%, Validation Accuracy: 9.50%\n",
      "Epoch: 16, Training Time: 4.73s, Training Accuracy: 9.75%, Validation Accuracy: 9.50%\n",
      "Epoch: 17, Training Time: 4.98s, Training Accuracy: 9.75%, Validation Accuracy: 9.50%\n",
      "Epoch: 18, Training Time: 5.23s, Training Accuracy: 9.75%, Validation Accuracy: 9.50%\n",
      "Epoch: 19, Training Time: 5.53s, Training Accuracy: 9.75%, Validation Accuracy: 9.50%\n",
      "Epoch: 20, Training Time: 5.90s, Training Accuracy: 9.75%, Validation Accuracy: 9.50%\n",
      "Epoch: 21, Training Time: 6.24s, Training Accuracy: 9.75%, Validation Accuracy: 9.50%\n",
      "Epoch: 22, Training Time: 6.58s, Training Accuracy: 9.75%, Validation Accuracy: 9.50%\n",
      "Epoch: 23, Training Time: 6.94s, Training Accuracy: 9.75%, Validation Accuracy: 9.50%\n",
      "Epoch: 24, Training Time: 7.28s, Training Accuracy: 9.75%, Validation Accuracy: 9.50%\n",
      "Epoch: 25, Training Time: 7.65s, Training Accuracy: 9.75%, Validation Accuracy: 9.50%\n",
      "Epoch: 26, Training Time: 7.92s, Training Accuracy: 9.75%, Validation Accuracy: 9.50%\n",
      "Epoch: 27, Training Time: 8.25s, Training Accuracy: 9.75%, Validation Accuracy: 9.50%\n",
      "Epoch: 28, Training Time: 8.57s, Training Accuracy: 9.75%, Validation Accuracy: 9.50%\n",
      "Epoch: 29, Training Time: 8.92s, Training Accuracy: 9.75%, Validation Accuracy: 9.50%\n",
      "Epoch: 30, Training Time: 9.29s, Training Accuracy: 9.75%, Validation Accuracy: 9.50%\n",
      "Epoch: 31, Training Time: 9.65s, Training Accuracy: 9.75%, Validation Accuracy: 9.50%\n",
      "Epoch: 32, Training Time: 10.00s, Training Accuracy: 9.75%, Validation Accuracy: 9.50%\n",
      "Epoch: 33, Training Time: 10.37s, Training Accuracy: 9.75%, Validation Accuracy: 9.50%\n",
      "Epoch: 34, Training Time: 10.73s, Training Accuracy: 9.75%, Validation Accuracy: 9.50%\n",
      "Epoch: 35, Training Time: 11.09s, Training Accuracy: 9.75%, Validation Accuracy: 9.50%\n",
      "Epoch: 36, Training Time: 11.44s, Training Accuracy: 9.75%, Validation Accuracy: 9.50%\n",
      "Epoch: 37, Training Time: 11.77s, Training Accuracy: 9.75%, Validation Accuracy: 9.50%\n",
      "Epoch: 38, Training Time: 12.13s, Training Accuracy: 9.75%, Validation Accuracy: 9.50%\n",
      "Epoch: 39, Training Time: 12.50s, Training Accuracy: 9.75%, Validation Accuracy: 9.50%\n",
      "Epoch: 40, Training Time: 12.86s, Training Accuracy: 9.75%, Validation Accuracy: 9.50%\n",
      "Epoch: 41, Training Time: 13.20s, Training Accuracy: 9.75%, Validation Accuracy: 9.50%\n",
      "Epoch: 42, Training Time: 13.54s, Training Accuracy: 9.75%, Validation Accuracy: 9.50%\n",
      "Epoch: 43, Training Time: 13.92s, Training Accuracy: 9.75%, Validation Accuracy: 9.50%\n",
      "Epoch: 44, Training Time: 14.26s, Training Accuracy: 9.75%, Validation Accuracy: 9.50%\n",
      "Epoch: 45, Training Time: 14.62s, Training Accuracy: 9.75%, Validation Accuracy: 9.50%\n",
      "Epoch: 46, Training Time: 14.97s, Training Accuracy: 9.75%, Validation Accuracy: 9.50%\n",
      "Epoch: 47, Training Time: 15.24s, Training Accuracy: 9.75%, Validation Accuracy: 9.50%\n",
      "Epoch: 48, Training Time: 15.49s, Training Accuracy: 9.75%, Validation Accuracy: 9.50%\n",
      "Epoch: 49, Training Time: 15.77s, Training Accuracy: 9.75%, Validation Accuracy: 9.50%\n",
      "Epoch: 50, Training Time: 16.03s, Training Accuracy: 9.75%, Validation Accuracy: 9.50%\n"
     ]
    }
   ],
   "source": [
    "fnn = Network(sizes=[784, 128, 64, 10], learning_rate=0.1, epochs=50)\n",
    "fnn.fit(x_train, y_train, x_val, y_val, cosine_annealing_lr=False)"
   ]
  },
  {
   "cell_type": "markdown",
   "metadata": {},
   "source": [
    "### Test cosine annealing scheduler"
   ]
  },
  {
   "cell_type": "code",
   "execution_count": 9,
   "metadata": {},
   "outputs": [
    {
     "name": "stdout",
     "output_type": "stream",
     "text": [
      "Epoch: 1, Training Time: 0.01s, Training Accuracy: 0.00%, Validation Accuracy: 0.00%\n",
      "Epoch: 2, Training Time: 0.01s, Training Accuracy: 0.00%, Validation Accuracy: 0.00%\n",
      "Epoch: 3, Training Time: 0.02s, Training Accuracy: 0.00%, Validation Accuracy: 0.00%\n",
      "Epoch: 4, Training Time: 0.02s, Training Accuracy: 0.00%, Validation Accuracy: 0.00%\n",
      "Epoch: 5, Training Time: 0.03s, Training Accuracy: 0.00%, Validation Accuracy: 0.00%\n",
      "Epoch: 6, Training Time: 0.03s, Training Accuracy: 0.00%, Validation Accuracy: 0.00%\n",
      "Epoch: 7, Training Time: 0.04s, Training Accuracy: 0.00%, Validation Accuracy: 0.00%\n",
      "Epoch: 8, Training Time: 0.04s, Training Accuracy: 0.00%, Validation Accuracy: 0.00%\n",
      "Epoch: 9, Training Time: 0.05s, Training Accuracy: 0.00%, Validation Accuracy: 0.00%\n",
      "Epoch: 10, Training Time: 0.05s, Training Accuracy: 0.00%, Validation Accuracy: 0.00%\n",
      "Epoch: 11, Training Time: 0.05s, Training Accuracy: 0.00%, Validation Accuracy: 0.00%\n",
      "Epoch: 12, Training Time: 0.06s, Training Accuracy: 0.00%, Validation Accuracy: 0.00%\n",
      "Epoch: 13, Training Time: 0.06s, Training Accuracy: 0.00%, Validation Accuracy: 0.00%\n",
      "Epoch: 14, Training Time: 0.07s, Training Accuracy: 0.00%, Validation Accuracy: 0.00%\n",
      "Epoch: 15, Training Time: 0.07s, Training Accuracy: 0.00%, Validation Accuracy: 0.00%\n",
      "Epoch: 16, Training Time: 0.07s, Training Accuracy: 0.00%, Validation Accuracy: 0.00%\n",
      "Epoch: 17, Training Time: 0.08s, Training Accuracy: 0.00%, Validation Accuracy: 0.00%\n",
      "Epoch: 18, Training Time: 0.08s, Training Accuracy: 0.00%, Validation Accuracy: 0.00%\n",
      "Epoch: 19, Training Time: 0.09s, Training Accuracy: 0.00%, Validation Accuracy: 0.00%\n",
      "Epoch: 20, Training Time: 0.09s, Training Accuracy: 0.00%, Validation Accuracy: 0.00%\n",
      "Epoch: 21, Training Time: 0.09s, Training Accuracy: 0.00%, Validation Accuracy: 0.00%\n",
      "Epoch: 22, Training Time: 0.10s, Training Accuracy: 0.00%, Validation Accuracy: 0.00%\n",
      "Epoch: 23, Training Time: 0.10s, Training Accuracy: 0.00%, Validation Accuracy: 0.00%\n",
      "Epoch: 24, Training Time: 0.11s, Training Accuracy: 0.00%, Validation Accuracy: 0.00%\n",
      "Epoch: 25, Training Time: 0.11s, Training Accuracy: 0.00%, Validation Accuracy: 0.00%\n",
      "Epoch: 26, Training Time: 0.12s, Training Accuracy: 0.00%, Validation Accuracy: 0.00%\n",
      "Epoch: 27, Training Time: 0.12s, Training Accuracy: 0.00%, Validation Accuracy: 0.00%\n",
      "Epoch: 28, Training Time: 0.12s, Training Accuracy: 0.00%, Validation Accuracy: 0.00%\n",
      "Epoch: 29, Training Time: 0.13s, Training Accuracy: 0.00%, Validation Accuracy: 0.00%\n",
      "Epoch: 30, Training Time: 0.14s, Training Accuracy: 0.00%, Validation Accuracy: 0.00%\n",
      "Epoch: 31, Training Time: 0.14s, Training Accuracy: 0.00%, Validation Accuracy: 0.00%\n",
      "Epoch: 32, Training Time: 0.15s, Training Accuracy: 0.00%, Validation Accuracy: 0.00%\n",
      "Epoch: 33, Training Time: 0.15s, Training Accuracy: 0.00%, Validation Accuracy: 0.00%\n",
      "Epoch: 34, Training Time: 0.16s, Training Accuracy: 0.00%, Validation Accuracy: 0.00%\n",
      "Epoch: 35, Training Time: 0.16s, Training Accuracy: 0.00%, Validation Accuracy: 0.00%\n",
      "Epoch: 36, Training Time: 0.16s, Training Accuracy: 0.00%, Validation Accuracy: 0.00%\n",
      "Epoch: 37, Training Time: 0.17s, Training Accuracy: 0.00%, Validation Accuracy: 0.00%\n",
      "Epoch: 38, Training Time: 0.18s, Training Accuracy: 0.00%, Validation Accuracy: 0.00%\n",
      "Epoch: 39, Training Time: 0.18s, Training Accuracy: 0.00%, Validation Accuracy: 0.00%\n",
      "Epoch: 40, Training Time: 0.19s, Training Accuracy: 0.00%, Validation Accuracy: 0.00%\n",
      "Epoch: 41, Training Time: 0.19s, Training Accuracy: 0.00%, Validation Accuracy: 0.00%\n",
      "Epoch: 42, Training Time: 0.20s, Training Accuracy: 0.00%, Validation Accuracy: 0.00%\n",
      "Epoch: 43, Training Time: 0.20s, Training Accuracy: 0.00%, Validation Accuracy: 0.00%\n",
      "Epoch: 44, Training Time: 0.21s, Training Accuracy: 0.00%, Validation Accuracy: 0.00%\n",
      "Epoch: 45, Training Time: 0.21s, Training Accuracy: 0.00%, Validation Accuracy: 0.00%\n",
      "Epoch: 46, Training Time: 0.22s, Training Accuracy: 0.00%, Validation Accuracy: 0.00%\n",
      "Epoch: 47, Training Time: 0.22s, Training Accuracy: 0.00%, Validation Accuracy: 0.00%\n",
      "Epoch: 48, Training Time: 0.23s, Training Accuracy: 0.00%, Validation Accuracy: 0.00%\n",
      "Epoch: 49, Training Time: 0.23s, Training Accuracy: 0.00%, Validation Accuracy: 0.00%\n",
      "Epoch: 50, Training Time: 0.23s, Training Accuracy: 0.00%, Validation Accuracy: 0.00%\n"
     ]
    }
   ],
   "source": [
    "fnn.fit(x_train, y_train, x_val, y_val, cosine_annealing_lr=True)"
   ]
  },
  {
   "cell_type": "markdown",
   "metadata": {},
   "source": [
    "### Test residual neural network"
   ]
  },
  {
   "cell_type": "code",
   "execution_count": 10,
   "metadata": {},
   "outputs": [
    {
     "ename": "AttributeError",
     "evalue": "'ResNetwork' object has no attribute 'epochs'",
     "output_type": "error",
     "traceback": [
      "\u001B[31m---------------------------------------------------------------------------\u001B[39m",
      "\u001B[31mAttributeError\u001B[39m                            Traceback (most recent call last)",
      "\u001B[36mCell\u001B[39m\u001B[36m \u001B[39m\u001B[32mIn[10]\u001B[39m\u001B[32m, line 2\u001B[39m\n\u001B[32m      1\u001B[39m res_nn = ResNetwork(sizes=[\u001B[32m784\u001B[39m, \u001B[32m128\u001B[39m, \u001B[32m128\u001B[39m, \u001B[32m10\u001B[39m], learning_rate=\u001B[32m1\u001B[39m, epochs=\u001B[32m50\u001B[39m)\n\u001B[32m----> \u001B[39m\u001B[32m2\u001B[39m \u001B[43mres_nn\u001B[49m\u001B[43m.\u001B[49m\u001B[43mfit\u001B[49m\u001B[43m(\u001B[49m\u001B[43mx_train\u001B[49m\u001B[43m,\u001B[49m\u001B[43m \u001B[49m\u001B[43my_train\u001B[49m\u001B[43m,\u001B[49m\u001B[43m \u001B[49m\u001B[43mx_val\u001B[49m\u001B[43m,\u001B[49m\u001B[43m \u001B[49m\u001B[43my_val\u001B[49m\u001B[43m)\u001B[49m\n",
      "\u001B[36mFile \u001B[39m\u001B[32mc:\\Users\\Admin\\Documents\\Hertie School\\Semester 3\\Deep Learning\\Problem Set 1\\assignment-1-ps-1-b\\scratch\\network.py:101\u001B[39m, in \u001B[36mNetwork.fit\u001B[39m\u001B[34m(self, x_train, y_train, x_val, y_val, cosine_annealing_lr)\u001B[39m\n\u001B[32m     97\u001B[39m \u001B[38;5;28;01mdef\u001B[39;00m\u001B[38;5;250m \u001B[39m\u001B[34mfit\u001B[39m(\u001B[38;5;28mself\u001B[39m, x_train, y_train, x_val, y_val, cosine_annealing_lr=\u001B[38;5;28;01mFalse\u001B[39;00m):\n\u001B[32m     99\u001B[39m     start_time = time.time()\n\u001B[32m--> \u001B[39m\u001B[32m101\u001B[39m     \u001B[38;5;28;01mfor\u001B[39;00m iteration \u001B[38;5;129;01min\u001B[39;00m \u001B[38;5;28mrange\u001B[39m(\u001B[38;5;28;43mself\u001B[39;49m\u001B[43m.\u001B[49m\u001B[43mepochs\u001B[49m):\n\u001B[32m    102\u001B[39m         \u001B[38;5;28;01mfor\u001B[39;00m x, y \u001B[38;5;129;01min\u001B[39;00m \u001B[38;5;28mzip\u001B[39m(x_train, y_train):\n\u001B[32m    104\u001B[39m             \u001B[38;5;28;01mif\u001B[39;00m cosine_annealing_lr:\n",
      "\u001B[31mAttributeError\u001B[39m: 'ResNetwork' object has no attribute 'epochs'"
     ]
    }
   ],
   "source": [
    "res_nn = ResNetwork(sizes=[784, 128, 128, 10], learning_rate=1, epochs=50)\n",
    "res_nn.fit(x_train, y_train, x_val, y_val)"
   ]
  },
  {
   "cell_type": "markdown",
   "metadata": {},
   "source": [
    "## B) Neural Network Classifier using Torch"
   ]
  },
  {
   "cell_type": "markdown",
   "metadata": {},
   "source": [
    "### Data"
   ]
  },
  {
   "cell_type": "code",
   "execution_count": 5,
   "metadata": {},
   "outputs": [],
   "source": [
    "# Define data preprocessing steps\n",
    "transform = transforms.Compose([\n",
    "                transforms.ToTensor(),\n",
    "                transforms.Normalize((0.5,), (0.5,))\n",
    "            ])\n",
    "\n",
    "# Download MNIST dataset\n",
    "train_set = torch_datasets.MNIST('data', train=True, download=True, transform=transform)\n",
    "val_set = torch_datasets.MNIST('data', train=False, download=True, transform=transform)\n",
    "\n",
    "# Use only small subset of data for faster training\n",
    "train_set = torch.utils.data.Subset(train_set, range(1000))\n",
    "val_set = torch.utils.data.Subset(val_set, range(1000))\n",
    "\n",
    "# Utilize PyTorch DataLoader from simplified & harmonized loading of data\n",
    "train_loader = torch.utils.data.DataLoader(train_set, batch_size=1)\n",
    "val_loader = torch.utils.data.DataLoader(val_set, batch_size=1)\n"
   ]
  },
  {
   "cell_type": "markdown",
   "metadata": {},
   "source": [
    "### ML Model & Training"
   ]
  },
  {
   "cell_type": "code",
   "execution_count": 6,
   "metadata": {},
   "outputs": [
    {
     "name": "stdout",
     "output_type": "stream",
     "text": [
      "Epoch: 1, Training Time: 3.92s, Learning Rate: 0.2, Training Accuracy: 10.00%, Validation Accuracy: 9.40%\n",
      "Epoch: 2, Training Time: 9.25s, Learning Rate: 0.2, Training Accuracy: 11.70%, Validation Accuracy: 9.90%\n",
      "Epoch: 3, Training Time: 15.52s, Learning Rate: 0.2, Training Accuracy: 11.70%, Validation Accuracy: 9.90%\n",
      "Epoch: 4, Training Time: 21.91s, Learning Rate: 0.2, Training Accuracy: 11.70%, Validation Accuracy: 9.90%\n",
      "Epoch: 5, Training Time: 28.51s, Learning Rate: 0.2, Training Accuracy: 11.70%, Validation Accuracy: 9.90%\n",
      "Epoch: 6, Training Time: 34.96s, Learning Rate: 0.2, Training Accuracy: 11.70%, Validation Accuracy: 9.90%\n",
      "Epoch: 7, Training Time: 41.80s, Learning Rate: 0.2, Training Accuracy: 11.70%, Validation Accuracy: 9.90%\n",
      "Epoch: 8, Training Time: 47.17s, Learning Rate: 0.2, Training Accuracy: 11.70%, Validation Accuracy: 9.90%\n",
      "Epoch: 9, Training Time: 57.35s, Learning Rate: 0.2, Training Accuracy: 11.70%, Validation Accuracy: 9.90%\n",
      "Epoch: 10, Training Time: 69.31s, Learning Rate: 0.2, Training Accuracy: 11.70%, Validation Accuracy: 9.90%\n",
      "Epoch: 11, Training Time: 82.17s, Learning Rate: 0.2, Training Accuracy: 11.70%, Validation Accuracy: 9.90%\n",
      "Epoch: 12, Training Time: 94.21s, Learning Rate: 0.2, Training Accuracy: 11.70%, Validation Accuracy: 9.90%\n",
      "Epoch: 13, Training Time: 105.96s, Learning Rate: 0.2, Training Accuracy: 11.70%, Validation Accuracy: 9.90%\n",
      "Epoch: 14, Training Time: 117.57s, Learning Rate: 0.2, Training Accuracy: 11.70%, Validation Accuracy: 9.90%\n",
      "Epoch: 15, Training Time: 129.56s, Learning Rate: 0.2, Training Accuracy: 11.70%, Validation Accuracy: 9.90%\n",
      "Epoch: 16, Training Time: 141.36s, Learning Rate: 0.2, Training Accuracy: 11.70%, Validation Accuracy: 9.90%\n",
      "Epoch: 17, Training Time: 151.19s, Learning Rate: 0.2, Training Accuracy: 14.70%, Validation Accuracy: 10.50%\n",
      "Epoch: 18, Training Time: 162.17s, Learning Rate: 0.2, Training Accuracy: 18.30%, Validation Accuracy: 13.80%\n",
      "Epoch: 19, Training Time: 174.75s, Learning Rate: 0.2, Training Accuracy: 20.60%, Validation Accuracy: 18.00%\n",
      "Epoch: 20, Training Time: 187.50s, Learning Rate: 0.2, Training Accuracy: 21.90%, Validation Accuracy: 20.60%\n",
      "Epoch: 21, Training Time: 200.06s, Learning Rate: 0.2, Training Accuracy: 23.90%, Validation Accuracy: 21.90%\n",
      "Epoch: 22, Training Time: 212.56s, Learning Rate: 0.2, Training Accuracy: 26.60%, Validation Accuracy: 23.10%\n",
      "Epoch: 23, Training Time: 225.22s, Learning Rate: 0.2, Training Accuracy: 28.50%, Validation Accuracy: 25.20%\n",
      "Epoch: 24, Training Time: 238.04s, Learning Rate: 0.2, Training Accuracy: 29.80%, Validation Accuracy: 26.70%\n",
      "Epoch: 25, Training Time: 250.44s, Learning Rate: 0.2, Training Accuracy: 29.80%, Validation Accuracy: 26.80%\n",
      "Epoch: 26, Training Time: 263.26s, Learning Rate: 0.2, Training Accuracy: 29.70%, Validation Accuracy: 27.10%\n",
      "Epoch: 27, Training Time: 275.88s, Learning Rate: 0.2, Training Accuracy: 29.80%, Validation Accuracy: 27.30%\n",
      "Epoch: 28, Training Time: 288.56s, Learning Rate: 0.2, Training Accuracy: 29.90%, Validation Accuracy: 27.20%\n",
      "Epoch: 29, Training Time: 301.38s, Learning Rate: 0.2, Training Accuracy: 30.10%, Validation Accuracy: 27.40%\n",
      "Epoch: 30, Training Time: 314.22s, Learning Rate: 0.2, Training Accuracy: 30.00%, Validation Accuracy: 27.50%\n",
      "Epoch: 31, Training Time: 326.86s, Learning Rate: 0.2, Training Accuracy: 30.20%, Validation Accuracy: 27.90%\n",
      "Epoch: 32, Training Time: 339.67s, Learning Rate: 0.2, Training Accuracy: 30.40%, Validation Accuracy: 28.10%\n",
      "Epoch: 33, Training Time: 352.81s, Learning Rate: 0.2, Training Accuracy: 31.10%, Validation Accuracy: 29.00%\n",
      "Epoch: 34, Training Time: 365.53s, Learning Rate: 0.2, Training Accuracy: 31.70%, Validation Accuracy: 30.00%\n",
      "Epoch: 35, Training Time: 378.40s, Learning Rate: 0.2, Training Accuracy: 32.50%, Validation Accuracy: 30.80%\n",
      "Epoch: 36, Training Time: 390.99s, Learning Rate: 0.2, Training Accuracy: 34.20%, Validation Accuracy: 32.50%\n",
      "Epoch: 37, Training Time: 403.89s, Learning Rate: 0.2, Training Accuracy: 35.30%, Validation Accuracy: 34.00%\n",
      "Epoch: 38, Training Time: 416.61s, Learning Rate: 0.2, Training Accuracy: 37.30%, Validation Accuracy: 36.40%\n",
      "Epoch: 39, Training Time: 429.46s, Learning Rate: 0.2, Training Accuracy: 39.90%, Validation Accuracy: 37.80%\n",
      "Epoch: 40, Training Time: 441.89s, Learning Rate: 0.2, Training Accuracy: 42.30%, Validation Accuracy: 40.40%\n",
      "Epoch: 41, Training Time: 452.61s, Learning Rate: 0.2, Training Accuracy: 44.50%, Validation Accuracy: 41.70%\n",
      "Epoch: 42, Training Time: 465.40s, Learning Rate: 0.2, Training Accuracy: 46.90%, Validation Accuracy: 44.90%\n",
      "Epoch: 43, Training Time: 478.31s, Learning Rate: 0.2, Training Accuracy: 49.00%, Validation Accuracy: 46.70%\n",
      "Epoch: 44, Training Time: 490.35s, Learning Rate: 0.2, Training Accuracy: 50.80%, Validation Accuracy: 48.30%\n",
      "Epoch: 45, Training Time: 501.48s, Learning Rate: 0.2, Training Accuracy: 52.70%, Validation Accuracy: 50.30%\n",
      "Epoch: 46, Training Time: 513.02s, Learning Rate: 0.2, Training Accuracy: 54.00%, Validation Accuracy: 52.60%\n",
      "Epoch: 47, Training Time: 525.30s, Learning Rate: 0.2, Training Accuracy: 55.50%, Validation Accuracy: 53.50%\n",
      "Epoch: 48, Training Time: 537.46s, Learning Rate: 0.2, Training Accuracy: 57.60%, Validation Accuracy: 55.50%\n",
      "Epoch: 49, Training Time: 549.90s, Learning Rate: 0.2, Training Accuracy: 59.00%, Validation Accuracy: 56.90%\n",
      "Epoch: 50, Training Time: 562.38s, Learning Rate: 0.2, Training Accuracy: 60.50%, Validation Accuracy: 57.60%\n"
     ]
    }
   ],
   "source": [
    "torch_nn = TorchNetwork(sizes=[784, 128, 64, 10], learning_rate=0.2, epochs=50, random_state=GLOBAL_RANDOM_STATE)\n",
    "torch_nn.fit(train_loader, val_loader)"
   ]
  },
  {
   "cell_type": "markdown",
   "metadata": {},
   "source": [
    "## C) Visualize accuracy & hyperparameter tuning\n",
    "\n",
    "Here, you should compare the accuracy of all trained models. Optionally, you can also show the results of hyperparameter tuning and comment which hyperparameters work best for this task."
   ]
  },
  {
   "cell_type": "code",
   "execution_count": 7,
   "metadata": {},
   "outputs": [],
   "source": [
    "def accuracy_plot(model):\n",
    "    plt.plot(model.train_accuracies, label='Training Accuracy') #Need to implement in each model\n",
    "    plt.plot(model.val_accuracies, label='Validation Accuracy') #Need to implement in each model\n",
    "    plt.xlabel('Epochs')\n",
    "    plt.ylabel('Accuracy')\n",
    "    plt.title('Training and Validation Accuracy over Epochs')\n",
    "    plt.legend()\n",
    "    plt.show()"
   ]
  },
  {
   "cell_type": "code",
   "execution_count": 8,
   "metadata": {},
   "outputs": [
    {
     "data": {
      "image/png": "[encoded data removed]",
      "text/plain": [
       "<Figure size 640x480 with 1 Axes>"
      ]
     },
     "metadata": {},
     "output_type": "display_data"
    }
   ],
   "source": [
    "#accuracy_plot(fnn)\n",
    "#accuracy_plot(res_nn)\n",
    "accuracy_plot(torch_nn)\n"
   ]
  }
 ],
 "metadata": {
  "kernelspec": {
   "display_name": "pymc_env",
   "language": "python",
   "name": "python3"
  },
  "language_info": {
   "codemirror_mode": {
    "name": "ipython",
    "version": 3
   },
   "file_extension": ".py",
   "mimetype": "text/x-python",
   "name": "python",
   "nbconvert_exporter": "python",
   "pygments_lexer": "ipython3",
   "version": "3.13.3"
  },
  "orig_nbformat": 4
 },
 "nbformat": 4,
 "nbformat_minor": 2
}
