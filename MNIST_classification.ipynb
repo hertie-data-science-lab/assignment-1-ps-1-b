{
 "cells": [
  {
   "cell_type": "markdown",
   "metadata": {},
   "source": [
    "# Problem Set 1 - Neural network implementation"
   ]
  },
  {
   "cell_type": "markdown",
   "metadata": {},
   "source": [
    "Team number: PS 1 B\n",
    "\n",
    "Team members: \n",
    "- Giorgio Coppola (224545)\n",
    "- Minho Kang (239742)\n",
    "- Sofiya Berdiyeva (246934)"
   ]
  },
  {
   "cell_type": "markdown",
   "metadata": {},
   "source": [
    "As described in section \"2 Neural network implementation\" of assignment 1, the goal is to build a shallow neural network from scratch using different approaches. To validate that your code is working and that the network is actually learning something, please use the following MNIST classification task. Finally, please submit proof of the learning progress as described in the assignment."
   ]
  },
  {
   "cell_type": "markdown",
   "metadata": {},
   "source": [
    "## Imports"
   ]
  },
  {
   "cell_type": "code",
   "execution_count": 5,
   "metadata": {},
   "outputs": [],
   "source": [
    "import random\n",
    "import pandas as pd\n",
    "import numpy as np\n",
    "from sklearn import model_selection\n",
    "import sklearn.datasets as sk_datasets\n",
    "import torchvision.datasets as torch_datasets\n",
    "from torchvision import transforms\n",
    "import torch\n",
    "import matplotlib.pyplot as plt\n",
    "\n",
    "from scratch.network import Network\n",
    "from scratch.res_network import ResNetwork\n",
    "from pytorch.network import TorchNetwork\n",
    "from scratch.utils import *"
   ]
  },
  {
   "cell_type": "code",
   "execution_count": 6,
   "metadata": {},
   "outputs": [
    {
     "name": "stdout",
     "output_type": "stream",
     "text": [
      "The autoreload extension is already loaded. To reload it, use:\n",
      "  %reload_ext autoreload\n"
     ]
    }
   ],
   "source": [
    "# Automatically load changes in imported modules\n",
    "%load_ext autoreload\n",
    "%autoreload 2\n",
    "\n",
    "# Explicitly set seed for reproducibility\n",
    "GLOBAL_RANDOM_STATE = 42\n",
    "\n",
    "random.seed(GLOBAL_RANDOM_STATE)\n",
    "np.random.seed(GLOBAL_RANDOM_STATE)"
   ]
  },
  {
   "cell_type": "markdown",
   "metadata": {},
   "source": [
    "## A) Neural Network Classifier from Scratch"
   ]
  },
  {
   "cell_type": "markdown",
   "metadata": {},
   "source": [
    "### Data"
   ]
  },
  {
   "cell_type": "code",
   "execution_count": 7,
   "metadata": {},
   "outputs": [],
   "source": [
    "# Download MNIST dataset\n",
    "x, y_cat = sk_datasets.fetch_openml('mnist_784', version=1, return_X_y=True, cache=True, as_frame=False)\n",
    "\n",
    "# Preprocess dataset\n",
    "x = (x / 255).astype('float32')\n",
    "y_cat = y_cat.astype(int)\n",
    "# One-hot encode y\n",
    "y = np.zeros((len(y_cat), 10))\n",
    "for i, val in enumerate(y_cat):\n",
    "    y[i, val] = 1\n",
    "\n",
    "# Use only small subset of data for faster training\n",
    "x = x[:1000]\n",
    "y = y[:1000]\n",
    "\n",
    "# Split data into train and validation set\n",
    "x_train, x_val, y_train, y_val = model_selection.train_test_split(x, y, test_size=0.2, random_state=GLOBAL_RANDOM_STATE)\n",
    "\n"
   ]
  },
  {
   "cell_type": "markdown",
   "metadata": {},
   "source": [
    "### ML Model & Training"
   ]
  },
  {
   "cell_type": "code",
   "execution_count": 8,
   "metadata": {},
   "outputs": [
    {
     "name": "stdout",
     "output_type": "stream",
     "text": [
      "Epoch: 1, Training Time: 0.00s, Training Accuracy: 0.00%, Validation Accuracy: 0.00%\n",
      "Epoch: 2, Training Time: 0.01s, Training Accuracy: 0.00%, Validation Accuracy: 0.00%\n",
      "Epoch: 3, Training Time: 0.01s, Training Accuracy: 0.00%, Validation Accuracy: 0.00%\n",
      "Epoch: 4, Training Time: 0.01s, Training Accuracy: 0.00%, Validation Accuracy: 0.00%\n",
      "Epoch: 5, Training Time: 0.02s, Training Accuracy: 0.00%, Validation Accuracy: 0.00%\n",
      "Epoch: 6, Training Time: 0.02s, Training Accuracy: 0.00%, Validation Accuracy: 0.00%\n",
      "Epoch: 7, Training Time: 0.02s, Training Accuracy: 0.00%, Validation Accuracy: 0.00%\n",
      "Epoch: 8, Training Time: 0.02s, Training Accuracy: 0.00%, Validation Accuracy: 0.00%\n",
      "Epoch: 9, Training Time: 0.03s, Training Accuracy: 0.00%, Validation Accuracy: 0.00%\n",
      "Epoch: 10, Training Time: 0.03s, Training Accuracy: 0.00%, Validation Accuracy: 0.00%\n",
      "Epoch: 11, Training Time: 0.03s, Training Accuracy: 0.00%, Validation Accuracy: 0.00%\n",
      "Epoch: 12, Training Time: 0.04s, Training Accuracy: 0.00%, Validation Accuracy: 0.00%\n",
      "Epoch: 13, Training Time: 0.04s, Training Accuracy: 0.00%, Validation Accuracy: 0.00%\n",
      "Epoch: 14, Training Time: 0.04s, Training Accuracy: 0.00%, Validation Accuracy: 0.00%\n",
      "Epoch: 15, Training Time: 0.05s, Training Accuracy: 0.00%, Validation Accuracy: 0.00%\n",
      "Epoch: 16, Training Time: 0.05s, Training Accuracy: 0.00%, Validation Accuracy: 0.00%\n",
      "Epoch: 17, Training Time: 0.05s, Training Accuracy: 0.00%, Validation Accuracy: 0.00%\n",
      "Epoch: 18, Training Time: 0.06s, Training Accuracy: 0.00%, Validation Accuracy: 0.00%\n",
      "Epoch: 19, Training Time: 0.06s, Training Accuracy: 0.00%, Validation Accuracy: 0.00%\n",
      "Epoch: 20, Training Time: 0.06s, Training Accuracy: 0.00%, Validation Accuracy: 0.00%\n",
      "Epoch: 21, Training Time: 0.07s, Training Accuracy: 0.00%, Validation Accuracy: 0.00%\n",
      "Epoch: 22, Training Time: 0.07s, Training Accuracy: 0.00%, Validation Accuracy: 0.00%\n",
      "Epoch: 23, Training Time: 0.07s, Training Accuracy: 0.00%, Validation Accuracy: 0.00%\n",
      "Epoch: 24, Training Time: 0.08s, Training Accuracy: 0.00%, Validation Accuracy: 0.00%\n",
      "Epoch: 25, Training Time: 0.08s, Training Accuracy: 0.00%, Validation Accuracy: 0.00%\n",
      "Epoch: 26, Training Time: 0.08s, Training Accuracy: 0.00%, Validation Accuracy: 0.00%\n",
      "Epoch: 27, Training Time: 0.09s, Training Accuracy: 0.00%, Validation Accuracy: 0.00%\n",
      "Epoch: 28, Training Time: 0.09s, Training Accuracy: 0.00%, Validation Accuracy: 0.00%\n",
      "Epoch: 29, Training Time: 0.09s, Training Accuracy: 0.00%, Validation Accuracy: 0.00%\n",
      "Epoch: 30, Training Time: 0.10s, Training Accuracy: 0.00%, Validation Accuracy: 0.00%\n",
      "Epoch: 31, Training Time: 0.10s, Training Accuracy: 0.00%, Validation Accuracy: 0.00%\n",
      "Epoch: 32, Training Time: 0.10s, Training Accuracy: 0.00%, Validation Accuracy: 0.00%\n",
      "Epoch: 33, Training Time: 0.11s, Training Accuracy: 0.00%, Validation Accuracy: 0.00%\n",
      "Epoch: 34, Training Time: 0.11s, Training Accuracy: 0.00%, Validation Accuracy: 0.00%\n",
      "Epoch: 35, Training Time: 0.12s, Training Accuracy: 0.00%, Validation Accuracy: 0.00%\n",
      "Epoch: 36, Training Time: 0.12s, Training Accuracy: 0.00%, Validation Accuracy: 0.00%\n",
      "Epoch: 37, Training Time: 0.12s, Training Accuracy: 0.00%, Validation Accuracy: 0.00%\n",
      "Epoch: 38, Training Time: 0.12s, Training Accuracy: 0.00%, Validation Accuracy: 0.00%\n",
      "Epoch: 39, Training Time: 0.13s, Training Accuracy: 0.00%, Validation Accuracy: 0.00%\n",
      "Epoch: 40, Training Time: 0.13s, Training Accuracy: 0.00%, Validation Accuracy: 0.00%\n",
      "Epoch: 41, Training Time: 0.13s, Training Accuracy: 0.00%, Validation Accuracy: 0.00%\n",
      "Epoch: 42, Training Time: 0.14s, Training Accuracy: 0.00%, Validation Accuracy: 0.00%\n",
      "Epoch: 43, Training Time: 0.14s, Training Accuracy: 0.00%, Validation Accuracy: 0.00%\n",
      "Epoch: 44, Training Time: 0.14s, Training Accuracy: 0.00%, Validation Accuracy: 0.00%\n",
      "Epoch: 45, Training Time: 0.15s, Training Accuracy: 0.00%, Validation Accuracy: 0.00%\n",
      "Epoch: 46, Training Time: 0.15s, Training Accuracy: 0.00%, Validation Accuracy: 0.00%\n",
      "Epoch: 47, Training Time: 0.15s, Training Accuracy: 0.00%, Validation Accuracy: 0.00%\n",
      "Epoch: 48, Training Time: 0.16s, Training Accuracy: 0.00%, Validation Accuracy: 0.00%\n",
      "Epoch: 49, Training Time: 0.16s, Training Accuracy: 0.00%, Validation Accuracy: 0.00%\n",
      "Epoch: 50, Training Time: 0.16s, Training Accuracy: 0.00%, Validation Accuracy: 0.00%\n"
     ]
    }
   ],
   "source": [
    "fnn = Network(sizes=[784, 128, 64, 10], learning_rate=0.1, epochs=50)\n",
    "fnn.fit(x_train, y_train, x_val, y_val, cosine_annealing_lr=False)"
   ]
  },
  {
   "cell_type": "markdown",
   "metadata": {},
   "source": [
    "### Test cosine annealing scheduler"
   ]
  },
  {
   "cell_type": "code",
   "execution_count": 9,
   "metadata": {},
   "outputs": [
    {
     "name": "stdout",
     "output_type": "stream",
     "text": [
      "Epoch: 1, Training Time: 0.01s, Training Accuracy: 0.00%, Validation Accuracy: 0.00%\n",
      "Epoch: 2, Training Time: 0.01s, Training Accuracy: 0.00%, Validation Accuracy: 0.00%\n",
      "Epoch: 3, Training Time: 0.02s, Training Accuracy: 0.00%, Validation Accuracy: 0.00%\n",
      "Epoch: 4, Training Time: 0.02s, Training Accuracy: 0.00%, Validation Accuracy: 0.00%\n",
      "Epoch: 5, Training Time: 0.03s, Training Accuracy: 0.00%, Validation Accuracy: 0.00%\n",
      "Epoch: 6, Training Time: 0.03s, Training Accuracy: 0.00%, Validation Accuracy: 0.00%\n",
      "Epoch: 7, Training Time: 0.04s, Training Accuracy: 0.00%, Validation Accuracy: 0.00%\n",
      "Epoch: 8, Training Time: 0.04s, Training Accuracy: 0.00%, Validation Accuracy: 0.00%\n",
      "Epoch: 9, Training Time: 0.05s, Training Accuracy: 0.00%, Validation Accuracy: 0.00%\n",
      "Epoch: 10, Training Time: 0.05s, Training Accuracy: 0.00%, Validation Accuracy: 0.00%\n",
      "Epoch: 11, Training Time: 0.05s, Training Accuracy: 0.00%, Validation Accuracy: 0.00%\n",
      "Epoch: 12, Training Time: 0.06s, Training Accuracy: 0.00%, Validation Accuracy: 0.00%\n",
      "Epoch: 13, Training Time: 0.06s, Training Accuracy: 0.00%, Validation Accuracy: 0.00%\n",
      "Epoch: 14, Training Time: 0.07s, Training Accuracy: 0.00%, Validation Accuracy: 0.00%\n",
      "Epoch: 15, Training Time: 0.07s, Training Accuracy: 0.00%, Validation Accuracy: 0.00%\n",
      "Epoch: 16, Training Time: 0.07s, Training Accuracy: 0.00%, Validation Accuracy: 0.00%\n",
      "Epoch: 17, Training Time: 0.08s, Training Accuracy: 0.00%, Validation Accuracy: 0.00%\n",
      "Epoch: 18, Training Time: 0.08s, Training Accuracy: 0.00%, Validation Accuracy: 0.00%\n",
      "Epoch: 19, Training Time: 0.09s, Training Accuracy: 0.00%, Validation Accuracy: 0.00%\n",
      "Epoch: 20, Training Time: 0.09s, Training Accuracy: 0.00%, Validation Accuracy: 0.00%\n",
      "Epoch: 21, Training Time: 0.09s, Training Accuracy: 0.00%, Validation Accuracy: 0.00%\n",
      "Epoch: 22, Training Time: 0.10s, Training Accuracy: 0.00%, Validation Accuracy: 0.00%\n",
      "Epoch: 23, Training Time: 0.10s, Training Accuracy: 0.00%, Validation Accuracy: 0.00%\n",
      "Epoch: 24, Training Time: 0.11s, Training Accuracy: 0.00%, Validation Accuracy: 0.00%\n",
      "Epoch: 25, Training Time: 0.11s, Training Accuracy: 0.00%, Validation Accuracy: 0.00%\n",
      "Epoch: 26, Training Time: 0.12s, Training Accuracy: 0.00%, Validation Accuracy: 0.00%\n",
      "Epoch: 27, Training Time: 0.12s, Training Accuracy: 0.00%, Validation Accuracy: 0.00%\n",
      "Epoch: 28, Training Time: 0.12s, Training Accuracy: 0.00%, Validation Accuracy: 0.00%\n",
      "Epoch: 29, Training Time: 0.13s, Training Accuracy: 0.00%, Validation Accuracy: 0.00%\n",
      "Epoch: 30, Training Time: 0.14s, Training Accuracy: 0.00%, Validation Accuracy: 0.00%\n",
      "Epoch: 31, Training Time: 0.14s, Training Accuracy: 0.00%, Validation Accuracy: 0.00%\n",
      "Epoch: 32, Training Time: 0.15s, Training Accuracy: 0.00%, Validation Accuracy: 0.00%\n",
      "Epoch: 33, Training Time: 0.15s, Training Accuracy: 0.00%, Validation Accuracy: 0.00%\n",
      "Epoch: 34, Training Time: 0.16s, Training Accuracy: 0.00%, Validation Accuracy: 0.00%\n",
      "Epoch: 35, Training Time: 0.16s, Training Accuracy: 0.00%, Validation Accuracy: 0.00%\n",
      "Epoch: 36, Training Time: 0.16s, Training Accuracy: 0.00%, Validation Accuracy: 0.00%\n",
      "Epoch: 37, Training Time: 0.17s, Training Accuracy: 0.00%, Validation Accuracy: 0.00%\n",
      "Epoch: 38, Training Time: 0.18s, Training Accuracy: 0.00%, Validation Accuracy: 0.00%\n",
      "Epoch: 39, Training Time: 0.18s, Training Accuracy: 0.00%, Validation Accuracy: 0.00%\n",
      "Epoch: 40, Training Time: 0.19s, Training Accuracy: 0.00%, Validation Accuracy: 0.00%\n",
      "Epoch: 41, Training Time: 0.19s, Training Accuracy: 0.00%, Validation Accuracy: 0.00%\n",
      "Epoch: 42, Training Time: 0.20s, Training Accuracy: 0.00%, Validation Accuracy: 0.00%\n",
      "Epoch: 43, Training Time: 0.20s, Training Accuracy: 0.00%, Validation Accuracy: 0.00%\n",
      "Epoch: 44, Training Time: 0.21s, Training Accuracy: 0.00%, Validation Accuracy: 0.00%\n",
      "Epoch: 45, Training Time: 0.21s, Training Accuracy: 0.00%, Validation Accuracy: 0.00%\n",
      "Epoch: 46, Training Time: 0.22s, Training Accuracy: 0.00%, Validation Accuracy: 0.00%\n",
      "Epoch: 47, Training Time: 0.22s, Training Accuracy: 0.00%, Validation Accuracy: 0.00%\n",
      "Epoch: 48, Training Time: 0.23s, Training Accuracy: 0.00%, Validation Accuracy: 0.00%\n",
      "Epoch: 49, Training Time: 0.23s, Training Accuracy: 0.00%, Validation Accuracy: 0.00%\n",
      "Epoch: 50, Training Time: 0.23s, Training Accuracy: 0.00%, Validation Accuracy: 0.00%\n"
     ]
    }
   ],
   "source": [
    "fnn.fit(x_train, y_train, x_val, y_val, cosine_annealing_lr=True)"
   ]
  },
  {
   "cell_type": "markdown",
   "metadata": {},
   "source": [
    "### Test residual neural network"
   ]
  },
  {
   "cell_type": "code",
   "execution_count": 10,
   "metadata": {},
   "outputs": [
    {
     "ename": "AttributeError",
     "evalue": "'ResNetwork' object has no attribute 'epochs'",
     "output_type": "error",
     "traceback": [
      "\u001b[31m---------------------------------------------------------------------------\u001b[39m",
      "\u001b[31mAttributeError\u001b[39m                            Traceback (most recent call last)",
      "\u001b[36mCell\u001b[39m\u001b[36m \u001b[39m\u001b[32mIn[10]\u001b[39m\u001b[32m, line 2\u001b[39m\n\u001b[32m      1\u001b[39m res_nn = ResNetwork(sizes=[\u001b[32m784\u001b[39m, \u001b[32m128\u001b[39m, \u001b[32m128\u001b[39m, \u001b[32m10\u001b[39m], learning_rate=\u001b[32m1\u001b[39m, epochs=\u001b[32m50\u001b[39m)\n\u001b[32m----> \u001b[39m\u001b[32m2\u001b[39m \u001b[43mres_nn\u001b[49m\u001b[43m.\u001b[49m\u001b[43mfit\u001b[49m\u001b[43m(\u001b[49m\u001b[43mx_train\u001b[49m\u001b[43m,\u001b[49m\u001b[43m \u001b[49m\u001b[43my_train\u001b[49m\u001b[43m,\u001b[49m\u001b[43m \u001b[49m\u001b[43mx_val\u001b[49m\u001b[43m,\u001b[49m\u001b[43m \u001b[49m\u001b[43my_val\u001b[49m\u001b[43m)\u001b[49m\n",
      "\u001b[36mFile \u001b[39m\u001b[32mc:\\Users\\Admin\\Documents\\Hertie School\\Semester 3\\Deep Learning\\Problem Set 1\\assignment-1-ps-1-b\\scratch\\network.py:101\u001b[39m, in \u001b[36mNetwork.fit\u001b[39m\u001b[34m(self, x_train, y_train, x_val, y_val, cosine_annealing_lr)\u001b[39m\n\u001b[32m     97\u001b[39m \u001b[38;5;28;01mdef\u001b[39;00m\u001b[38;5;250m \u001b[39m\u001b[34mfit\u001b[39m(\u001b[38;5;28mself\u001b[39m, x_train, y_train, x_val, y_val, cosine_annealing_lr=\u001b[38;5;28;01mFalse\u001b[39;00m):\n\u001b[32m     99\u001b[39m     start_time = time.time()\n\u001b[32m--> \u001b[39m\u001b[32m101\u001b[39m     \u001b[38;5;28;01mfor\u001b[39;00m iteration \u001b[38;5;129;01min\u001b[39;00m \u001b[38;5;28mrange\u001b[39m(\u001b[38;5;28;43mself\u001b[39;49m\u001b[43m.\u001b[49m\u001b[43mepochs\u001b[49m):\n\u001b[32m    102\u001b[39m         \u001b[38;5;28;01mfor\u001b[39;00m x, y \u001b[38;5;129;01min\u001b[39;00m \u001b[38;5;28mzip\u001b[39m(x_train, y_train):\n\u001b[32m    104\u001b[39m             \u001b[38;5;28;01mif\u001b[39;00m cosine_annealing_lr:\n",
      "\u001b[31mAttributeError\u001b[39m: 'ResNetwork' object has no attribute 'epochs'"
     ]
    }
   ],
   "source": [
    "res_nn = ResNetwork(sizes=[784, 128, 128, 10], learning_rate=1, epochs=50)\n",
    "res_nn.fit(x_train, y_train, x_val, y_val)"
   ]
  },
  {
   "cell_type": "markdown",
   "metadata": {},
   "source": [
    "## B) Neural Network Classifier using Torch"
   ]
  },
  {
   "cell_type": "markdown",
   "metadata": {},
   "source": [
    "### Data"
   ]
  },
  {
   "cell_type": "code",
   "execution_count": 13,
   "metadata": {},
   "outputs": [],
   "source": [
    "# Define data preprocessing steps\n",
    "transform = transforms.Compose([\n",
    "                transforms.ToTensor(),\n",
    "                transforms.Normalize((0.5,), (0.5,))\n",
    "            ])\n",
    "\n",
    "# Download MNIST dataset\n",
    "train_set = torch_datasets.MNIST('data', train=True, download=True, transform=transform)\n",
    "val_set = torch_datasets.MNIST('data', train=False, download=True, transform=transform)\n",
    "\n",
    "# Use only small subset of data for faster training\n",
    "train_set = torch.utils.data.Subset(train_set, range(1000))\n",
    "val_set = torch.utils.data.Subset(val_set, range(1000))\n",
    "\n",
    "# Utilize PyTorch DataLoader from simplified & harmonized loading of data\n",
    "train_loader = torch.utils.data.DataLoader(train_set, batch_size=1)\n",
    "val_loader = torch.utils.data.DataLoader(val_set, batch_size=1)\n"
   ]
  },
  {
   "cell_type": "markdown",
   "metadata": {},
   "source": [
    "### ML Model & Training"
   ]
  },
  {
   "cell_type": "code",
   "execution_count": 14,
   "metadata": {},
   "outputs": [
    {
     "ename": "TypeError",
     "evalue": "eq() received an invalid combination of arguments - got (NoneType, Tensor), but expected one of:\n * (Tensor input, Tensor other, *, Tensor out = None)\n * (Tensor input, Number other, *, Tensor out = None)\n",
     "output_type": "error",
     "traceback": [
      "\u001b[31m---------------------------------------------------------------------------\u001b[39m",
      "\u001b[31mTypeError\u001b[39m                                 Traceback (most recent call last)",
      "\u001b[36mCell\u001b[39m\u001b[36m \u001b[39m\u001b[32mIn[14]\u001b[39m\u001b[32m, line 2\u001b[39m\n\u001b[32m      1\u001b[39m torch_nn = TorchNetwork(sizes=[\u001b[32m784\u001b[39m, \u001b[32m128\u001b[39m, \u001b[32m64\u001b[39m, \u001b[32m10\u001b[39m], learning_rate=\u001b[32m0.2\u001b[39m, epochs=\u001b[32m50\u001b[39m, random_state=GLOBAL_RANDOM_STATE)\n\u001b[32m----> \u001b[39m\u001b[32m2\u001b[39m \u001b[43mtorch_nn\u001b[49m\u001b[43m.\u001b[49m\u001b[43mfit\u001b[49m\u001b[43m(\u001b[49m\u001b[43mtrain_loader\u001b[49m\u001b[43m,\u001b[49m\u001b[43m \u001b[49m\u001b[43mval_loader\u001b[49m\u001b[43m)\u001b[49m\n",
      "\u001b[36mFile \u001b[39m\u001b[32mc:\\Users\\Admin\\Documents\\Hertie School\\Semester 3\\Deep Learning\\Problem Set 1\\assignment-1-ps-1-b\\pytorch\\network.py:90\u001b[39m, in \u001b[36mTorchNetwork.fit\u001b[39m\u001b[34m(self, train_loader, val_loader)\u001b[39m\n\u001b[32m     87\u001b[39m     \u001b[38;5;28mself\u001b[39m._backward_pass(y, output)\n\u001b[32m     88\u001b[39m     \u001b[38;5;28mself\u001b[39m._update_weights()\n\u001b[32m---> \u001b[39m\u001b[32m90\u001b[39m \u001b[38;5;28;43mself\u001b[39;49m\u001b[43m.\u001b[49m\u001b[43m_print_learning_progress\u001b[49m\u001b[43m(\u001b[49m\u001b[43mstart_time\u001b[49m\u001b[43m,\u001b[49m\u001b[43m \u001b[49m\u001b[43miteration\u001b[49m\u001b[43m,\u001b[49m\u001b[43m \u001b[49m\u001b[43mtrain_loader\u001b[49m\u001b[43m,\u001b[49m\u001b[43m \u001b[49m\u001b[43mval_loader\u001b[49m\u001b[43m)\u001b[49m\n",
      "\u001b[36mFile \u001b[39m\u001b[32mc:\\Users\\Admin\\Documents\\Hertie School\\Semester 3\\Deep Learning\\Problem Set 1\\assignment-1-ps-1-b\\pytorch\\network.py:56\u001b[39m, in \u001b[36mTorchNetwork._print_learning_progress\u001b[39m\u001b[34m(self, start_time, iteration, train_loader, val_loader)\u001b[39m\n\u001b[32m     55\u001b[39m \u001b[38;5;28;01mdef\u001b[39;00m\u001b[38;5;250m \u001b[39m\u001b[34m_print_learning_progress\u001b[39m(\u001b[38;5;28mself\u001b[39m, start_time, iteration, train_loader, val_loader):\n\u001b[32m---> \u001b[39m\u001b[32m56\u001b[39m     train_accuracy = \u001b[38;5;28;43mself\u001b[39;49m\u001b[43m.\u001b[49m\u001b[43mcompute_accuracy\u001b[49m\u001b[43m(\u001b[49m\u001b[43mtrain_loader\u001b[49m\u001b[43m)\u001b[49m\n\u001b[32m     57\u001b[39m     val_accuracy = \u001b[38;5;28mself\u001b[39m.compute_accuracy(val_loader)\n\u001b[32m     58\u001b[39m     \u001b[38;5;28mprint\u001b[39m(\n\u001b[32m     59\u001b[39m         \u001b[33mf\u001b[39m\u001b[33m'\u001b[39m\u001b[33mEpoch: \u001b[39m\u001b[38;5;132;01m{\u001b[39;00miteration\u001b[38;5;250m \u001b[39m+\u001b[38;5;250m \u001b[39m\u001b[32m1\u001b[39m\u001b[38;5;132;01m}\u001b[39;00m\u001b[33m, \u001b[39m\u001b[33m'\u001b[39m \\\n\u001b[32m     60\u001b[39m         \u001b[33mf\u001b[39m\u001b[33m'\u001b[39m\u001b[33mTraining Time: \u001b[39m\u001b[38;5;132;01m{\u001b[39;00mtime.time()\u001b[38;5;250m \u001b[39m-\u001b[38;5;250m \u001b[39mstart_time\u001b[38;5;132;01m:\u001b[39;00m\u001b[33m.2f\u001b[39m\u001b[38;5;132;01m}\u001b[39;00m\u001b[33ms, \u001b[39m\u001b[33m'\u001b[39m \\\n\u001b[32m   (...)\u001b[39m\u001b[32m     63\u001b[39m         \u001b[33mf\u001b[39m\u001b[33m'\u001b[39m\u001b[33mValidation Accuracy: \u001b[39m\u001b[38;5;132;01m{\u001b[39;00mval_accuracy\u001b[38;5;250m \u001b[39m*\u001b[38;5;250m \u001b[39m\u001b[32m100\u001b[39m\u001b[38;5;132;01m:\u001b[39;00m\u001b[33m.2f\u001b[39m\u001b[38;5;132;01m}\u001b[39;00m\u001b[33m%\u001b[39m\u001b[33m'\u001b[39m\n\u001b[32m     64\u001b[39m         )\n",
      "\u001b[36mFile \u001b[39m\u001b[32mc:\\Users\\Admin\\Documents\\Hertie School\\Semester 3\\Deep Learning\\Problem Set 1\\assignment-1-ps-1-b\\pytorch\\network.py:99\u001b[39m, in \u001b[36mTorchNetwork.compute_accuracy\u001b[39m\u001b[34m(self, data_loader)\u001b[39m\n\u001b[32m     97\u001b[39m \u001b[38;5;28;01mfor\u001b[39;00m x, y \u001b[38;5;129;01min\u001b[39;00m data_loader:\n\u001b[32m     98\u001b[39m     pred = \u001b[38;5;28mself\u001b[39m.predict(x)\n\u001b[32m---> \u001b[39m\u001b[32m99\u001b[39m     correct += torch.sum(\u001b[43mtorch\u001b[49m\u001b[43m.\u001b[49m\u001b[43meq\u001b[49m\u001b[43m(\u001b[49m\u001b[43mpred\u001b[49m\u001b[43m,\u001b[49m\u001b[43m \u001b[49m\u001b[43my\u001b[49m\u001b[43m)\u001b[49m)\n\u001b[32m    101\u001b[39m \u001b[38;5;28;01mreturn\u001b[39;00m correct / \u001b[38;5;28mlen\u001b[39m(data_loader.dataset)\n",
      "\u001b[31mTypeError\u001b[39m: eq() received an invalid combination of arguments - got (NoneType, Tensor), but expected one of:\n * (Tensor input, Tensor other, *, Tensor out = None)\n * (Tensor input, Number other, *, Tensor out = None)\n"
     ]
    }
   ],
   "source": [
    "torch_nn = TorchNetwork(sizes=[784, 128, 64, 10], learning_rate=0.2, epochs=50, random_state=GLOBAL_RANDOM_STATE)\n",
    "torch_nn.fit(train_loader, val_loader)"
   ]
  },
  {
   "cell_type": "markdown",
   "metadata": {},
   "source": [
    "## C) Visualize accuracy & hyperparameter tuning\n",
    "\n",
    "Here, you should compare the accuracy of all trained models. Optionally, you can also show the results of hyperparameter tuning and comment which hyperparameters work best for this task."
   ]
  },
  {
   "cell_type": "code",
   "execution_count": null,
   "metadata": {},
   "outputs": [],
   "source": [
    "def accuracy_plot(model):\n",
    "    plt.plot(model.train_accuracies, label='Training Accuracy') #Need to implement in each model\n",
    "    plt.plot(model.val_accuracies, label='Validation Accuracy') #Need to implement in each model\n",
    "    plt.xlabel('Epochs')\n",
    "    plt.ylabel('Accuracy')\n",
    "    plt.title('Training and Validation Accuracy over Epochs')\n",
    "    plt.legend()\n",
    "    plt.show()"
   ]
  },
  {
   "cell_type": "code",
   "execution_count": null,
   "metadata": {},
   "outputs": [],
   "source": [
    "accuracy_plot(fnn)\n",
    "accuracy_plot(res_nn)\n",
    "accuracy_plot(torch_nn)\n"
   ]
  }
 ],
 "metadata": {
  "kernelspec": {
   "display_name": "pymc_env",
   "language": "python",
   "name": "python3"
  },
  "language_info": {
   "codemirror_mode": {
    "name": "ipython",
    "version": 3
   },
   "file_extension": ".py",
   "mimetype": "text/x-python",
   "name": "python",
   "nbconvert_exporter": "python",
   "pygments_lexer": "ipython3",
   "version": "3.13.3"
  },
  "orig_nbformat": 4
 },
 "nbformat": 4,
 "nbformat_minor": 2
}
